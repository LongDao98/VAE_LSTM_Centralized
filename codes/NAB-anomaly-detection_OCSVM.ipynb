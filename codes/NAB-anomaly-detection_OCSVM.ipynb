{
 "cells": [
  {
   "cell_type": "code",
   "execution_count": 1,
   "metadata": {},
   "outputs": [],
   "source": [
    "import warnings\n",
    "\n",
    "def fxn():\n",
    "    warnings.warn(\"deprecated\", DeprecationWarning)\n",
    "\n",
    "with warnings.catch_warnings():\n",
    "    warnings.simplefilter(\"ignore\")\n",
    "    fxn()"
   ]
  },
  {
   "cell_type": "code",
   "execution_count": 2,
   "metadata": {},
   "outputs": [],
   "source": [
    "import tensorflow as tf\n",
    "import tensorflow_probability as tfp\n",
    "import numpy as np\n",
    "import matplotlib.pylab as plt\n",
    "from matplotlib.pyplot import plot, ion, show, savefig, cla, figure\n",
    "import random\n",
    "import time"
   ]
  },
  {
   "cell_type": "code",
   "execution_count": 3,
   "metadata": {},
   "outputs": [],
   "source": [
    "import os\n",
    "os.environ[\"CUDA_DEVICE_ORDER\"]=\"PCI_BUS_ID\"   # see issue #152\n",
    "os.environ[\"CUDA_VISIBLE_DEVICES\"]=\"0\"\n",
    "\n",
    "import tensorflow as tf\n",
    "from data_loader import DataGenerator\n",
    "from models import VAEmodel, lstmKerasModel\n",
    "from trainers import vaeTrainer\n",
    "\n",
    "from utils import process_config, create_dirs, get_args"
   ]
  },
  {
   "cell_type": "code",
   "execution_count": 4,
   "metadata": {},
   "outputs": [
    {
     "name": "stdout",
     "output_type": "stream",
     "text": [
      "[]\n"
     ]
    }
   ],
   "source": [
    "from tensorflow.python.client import device_lib\n",
    "\n",
    "def get_available_gpus():\n",
    "    local_device_protos = device_lib.list_local_devices()\n",
    "    return [x.name for x in local_device_protos if x.device_type == 'GPU']\n",
    "\n",
    "print(get_available_gpus())"
   ]
  },
  {
   "cell_type": "code",
   "execution_count": 5,
   "metadata": {},
   "outputs": [
    {
     "name": "stdout",
     "output_type": "stream",
     "text": [
      "Device mapping:\n",
      "\n",
      "WARNING:tensorflow:From D:\\Future Internet Lab\\VAE_LSTM_Code\\codes\\base.py:62: The name tf.variable_scope is deprecated. Please use tf.compat.v1.variable_scope instead.\n",
      "\n",
      "WARNING:tensorflow:From D:\\Future Internet Lab\\VAE_LSTM_Code\\codes\\base.py:64: The name tf.assign is deprecated. Please use tf.compat.v1.assign instead.\n",
      "\n",
      "WARNING:tensorflow:From D:\\Future Internet Lab\\VAE_LSTM_Code\\codes\\models.py:25: The name tf.placeholder is deprecated. Please use tf.compat.v1.placeholder instead.\n",
      "\n",
      "WARNING:tensorflow:From D:\\anaconda3\\envs\\vae_lstm\\lib\\site-packages\\tensorflow_core\\python\\data\\util\\random_seed.py:58: where (from tensorflow.python.ops.array_ops) is deprecated and will be removed in a future version.\n",
      "Instructions for updating:\n",
      "Use tf.where in 2.0, which has the same broadcast rule as np.where\n",
      "WARNING:tensorflow:From D:\\Future Internet Lab\\VAE_LSTM_Code\\codes\\models.py:31: DatasetV1.make_initializable_iterator (from tensorflow.python.data.ops.dataset_ops) is deprecated and will be removed in a future version.\n",
      "Instructions for updating:\n",
      "Use `for ... in dataset:` to iterate over a dataset. If using `tf.estimator`, return the `Dataset` object directly from your input function. As a last resort, you can use `tf.compat.v1.data.make_initializable_iterator(dataset)`.\n",
      "WARNING:tensorflow:\n",
      "The TensorFlow contrib module will not be included in TensorFlow 2.0.\n",
      "For more information, please see:\n",
      "  * https://github.com/tensorflow/community/blob/master/rfcs/20180907-contrib-sunset.md\n",
      "  * https://github.com/tensorflow/addons\n",
      "  * https://github.com/tensorflow/io (for I/O related ops)\n",
      "If you depend on functionality not listed there, please file an issue.\n",
      "\n",
      "WARNING:tensorflow:From D:\\Future Internet Lab\\VAE_LSTM_Code\\codes\\models.py:49: dense (from tensorflow.python.layers.core) is deprecated and will be removed in a future version.\n",
      "Instructions for updating:\n",
      "Use keras.layers.Dense instead.\n",
      "WARNING:tensorflow:From D:\\anaconda3\\envs\\vae_lstm\\lib\\site-packages\\tensorflow_core\\python\\layers\\core.py:187: Layer.apply (from tensorflow.python.keras.engine.base_layer) is deprecated and will be removed in a future version.\n",
      "Instructions for updating:\n",
      "Please use `layer.__call__` method instead.\n",
      "conv_1: Tensor(\"encoder/dense/LeakyRelu:0\", shape=(?, 24, 16, 160), dtype=float32)\n",
      "WARNING:tensorflow:From D:\\Future Internet Lab\\VAE_LSTM_Code\\codes\\models.py:53: flatten (from tensorflow.python.layers.core) is deprecated and will be removed in a future version.\n",
      "Instructions for updating:\n",
      "Use keras.layers.flatten instead.\n",
      "finish encoder: \n",
      "Tensor(\"encoder/Add_1:0\", shape=(?, 6), dtype=float32)\n",
      "\n",
      "\n",
      "decoded is: Tensor(\"decoder/dense_2/BiasAdd:0\", shape=(?, 384), dtype=float32)\n",
      "finish decoder: \n",
      "Tensor(\"decoder/Reshape:0\", shape=(?, 24, 16), dtype=float32)\n",
      "\n",
      "\n",
      "sigma2: \n",
      "Tensor(\"sigma2_dataset/Square:0\", shape=(), dtype=float32)\n",
      "\n",
      "WARNING:tensorflow:From D:\\Future Internet Lab\\VAE_LSTM_Code\\codes\\base.py:73: The name tf.log is deprecated. Please use tf.math.log instead.\n",
      "\n",
      "WARNING:tensorflow:From D:\\Future Internet Lab\\VAE_LSTM_Code\\codes\\base.py:97: The name tf.get_collection is deprecated. Please use tf.compat.v1.get_collection instead.\n",
      "\n",
      "WARNING:tensorflow:From D:\\Future Internet Lab\\VAE_LSTM_Code\\codes\\base.py:97: The name tf.GraphKeys is deprecated. Please use tf.compat.v1.GraphKeys instead.\n",
      "\n",
      "WARNING:tensorflow:From D:\\Future Internet Lab\\VAE_LSTM_Code\\codes\\utils.py:82: The name tf.trainable_variables is deprecated. Please use tf.compat.v1.trainable_variables instead.\n",
      "\n",
      "The total number of trainable parameters in the encoder model is: 1475204\n",
      "The total number of trainable parameters in the decoder model is: 65992\n",
      "The total number of trainable parameters in the sigma2_dataset model is: 0\n",
      "Total number of trainable parameters in the VAE network is: 1541196\n",
      "WARNING:tensorflow:From D:\\Future Internet Lab\\VAE_LSTM_Code\\codes\\base.py:110: The name tf.train.AdamOptimizer is deprecated. Please use tf.compat.v1.train.AdamOptimizer instead.\n",
      "\n",
      "gvs for dataset: [(<tf.Tensor 'gradients/encoder/dense/Tensordot/transpose_1_grad/transpose:0' shape=(1, 160) dtype=float32>, <tf.Variable 'encoder/dense/kernel:0' shape=(1, 160) dtype=float32_ref>), (<tf.Tensor 'gradients/encoder/dense/BiasAdd_grad/tuple/control_dependency_1:0' shape=(160,) dtype=float32>, <tf.Variable 'encoder/dense/bias:0' shape=(160,) dtype=float32_ref>), (<tf.Tensor 'gradients/encoder/dense_1/MatMul_grad/tuple/control_dependency_1:0' shape=(61440, 24) dtype=float32>, <tf.Variable 'encoder/dense_1/kernel:0' shape=(61440, 24) dtype=float32_ref>), (<tf.Tensor 'gradients/encoder/dense_1/BiasAdd_grad/tuple/control_dependency_1:0' shape=(24,) dtype=float32>, <tf.Variable 'encoder/dense_1/bias:0' shape=(24,) dtype=float32_ref>), (<tf.Tensor 'gradients/encoder/code_mean/MatMul_grad/tuple/control_dependency_1:0' shape=(24, 6) dtype=float32>, <tf.Variable 'encoder/code_mean/kernel:0' shape=(24, 6) dtype=float32_ref>), (<tf.Tensor 'gradients/encoder/code_mean/BiasAdd_grad/tuple/control_dependency_1:0' shape=(6,) dtype=float32>, <tf.Variable 'encoder/code_mean/bias:0' shape=(6,) dtype=float32_ref>), (<tf.Tensor 'gradients/encoder/code_std_dev/MatMul_grad/tuple/control_dependency_1:0' shape=(24, 6) dtype=float32>, <tf.Variable 'encoder/code_std_dev/kernel:0' shape=(24, 6) dtype=float32_ref>), (<tf.Tensor 'gradients/encoder/code_std_dev/BiasAdd_grad/tuple/control_dependency_1:0' shape=(6,) dtype=float32>, <tf.Variable 'encoder/code_std_dev/bias:0' shape=(6,) dtype=float32_ref>), (<tf.Tensor 'gradients/decoder/dense/MatMul_grad/tuple/control_dependency_1:0' shape=(6, 24) dtype=float32>, <tf.Variable 'decoder/dense/kernel:0' shape=(6, 24) dtype=float32_ref>), (<tf.Tensor 'gradients/decoder/dense/BiasAdd_grad/tuple/control_dependency_1:0' shape=(24,) dtype=float32>, <tf.Variable 'decoder/dense/bias:0' shape=(24,) dtype=float32_ref>), (<tf.Tensor 'gradients/decoder/dense_1/MatMul_grad/tuple/control_dependency_1:0' shape=(24, 160) dtype=float32>, <tf.Variable 'decoder/dense_1/kernel:0' shape=(24, 160) dtype=float32_ref>), (<tf.Tensor 'gradients/decoder/dense_1/BiasAdd_grad/tuple/control_dependency_1:0' shape=(160,) dtype=float32>, <tf.Variable 'decoder/dense_1/bias:0' shape=(160,) dtype=float32_ref>), (<tf.Tensor 'gradients/decoder/dense_2/MatMul_grad/tuple/control_dependency_1:0' shape=(160, 384) dtype=float32>, <tf.Variable 'decoder/dense_2/kernel:0' shape=(160, 384) dtype=float32_ref>), (<tf.Tensor 'gradients/decoder/dense_2/BiasAdd_grad/tuple/control_dependency_1:0' shape=(384,) dtype=float32>, <tf.Variable 'decoder/dense_2/bias:0' shape=(384,) dtype=float32_ref>)]\n",
      "Reach the definition of loss for VAE\n",
      "WARNING:tensorflow:From D:\\Future Internet Lab\\VAE_LSTM_Code\\codes\\base.py:126: The name tf.train.Saver is deprecated. Please use tf.compat.v1.train.Saver instead.\n",
      "\n",
      "WARNING:tensorflow:From D:\\Future Internet Lab\\VAE_LSTM_Code\\codes\\base.py:135: The name tf.global_variables_initializer is deprecated. Please use tf.compat.v1.global_variables_initializer instead.\n",
      "\n",
      "WARNING:tensorflow:From D:\\Future Internet Lab\\VAE_LSTM_Code\\codes\\base.py:136: The name tf.local_variables_initializer is deprecated. Please use tf.compat.v1.local_variables_initializer instead.\n",
      "\n",
      "checkpoint_dir at loading: ../experiments/local-results/centralized_dense2/scada1/batch-512\\centralized_dense2-scada1-24-12-6-fixedSigma-0.1\\checkpoint/\n",
      "Loading model checkpoint ../experiments/local-results/centralized_dense2/scada1/batch-512\\centralized_dense2-scada1-24-12-6-fixedSigma-0.1\\checkpoint/-4230 ...\n",
      "\n",
      "INFO:tensorflow:Restoring parameters from ../experiments/local-results/centralized_dense2/scada1/batch-512\\centralized_dense2-scada1-24-12-6-fixedSigma-0.1\\checkpoint/-4230\n",
      "Model loaded.\n"
     ]
    }
   ],
   "source": [
    "# load VAE model\n",
    "config = process_config('NAB_config_rerun.json')\n",
    "# create the experiments dirs\n",
    "create_dirs([config['result_dir'], config['checkpoint_dir']])\n",
    "# create tensorflow session\n",
    "sess = tf.Session(config=tf.ConfigProto(log_device_placement=True))\n",
    "# create your data generator\n",
    "#config['dataset'] = 'nprs44'\n",
    "data = DataGenerator(config)\n",
    "# create a CNN model\n",
    "model_vae = VAEmodel(config)\n",
    "# create a CNN model\n",
    "trainer_vae = vaeTrainer(sess, model_vae, data, config)\n",
    "model_vae.load(sess)"
   ]
  },
  {
   "cell_type": "code",
   "execution_count": 6,
   "metadata": {},
   "outputs": [
    {
     "name": "stdout",
     "output_type": "stream",
     "text": [
      "dict_keys(['config', 'n_train_vae', 'n_val_vae', 'train_set_vae', 'val_set_vae', 'test_set_vae', 'n_train_lstm', 'n_val_lstm', 'train_set_lstm', 'val_set_lstm'])\n",
      "n_train_vae 144761\n",
      "n_val_vae 16085\n",
      "n_train_lstm 144523\n",
      "n_val_lstm 16059\n",
      "train_set_vae (144761, 24, 16)\n",
      "val_set_vae (16085, 24, 16)\n",
      "test_set_vae (512, 24, 16)\n",
      "train_set_lstm (144523, 12, 24, 16)\n",
      "val_set_lstm (16059, 12, 24, 16)\n"
     ]
    }
   ],
   "source": [
    "print(data.__dict__.keys())\n",
    "for i in data.__dict__.keys():\n",
    "    if (i not in ['config','train_set_vae','val_set_vae','test_set_vae','train_set_lstm', 'val_set_lstm']):\n",
    "        print(i ,getattr(data,i))\n",
    "for i in  ['train_set_vae','val_set_vae','test_set_vae','train_set_lstm', 'val_set_lstm']:\n",
    "    print(i ,(getattr(data,i)['data']).shape)\n",
    "\n",
    "\n"
   ]
  },
  {
   "cell_type": "code",
   "execution_count": 7,
   "metadata": {},
   "outputs": [
    {
     "data": {
      "text/plain": [
       "'scada1'"
      ]
     },
     "execution_count": 7,
     "metadata": {},
     "output_type": "execute_result"
    }
   ],
   "source": [
    "config['dataset']"
   ]
  },
  {
   "cell_type": "code",
   "execution_count": 8,
   "metadata": {},
   "outputs": [
    {
     "name": "stdout",
     "output_type": "stream",
     "text": [
      "Finish processing the embeddings of the entire dataset.\n",
      "The first a few embeddings are\n",
      "[[ 0.99375951 -3.84024644 -0.60009927  1.47868812  0.31278694 -3.02716374]\n",
      " [ 1.00358093 -3.86313772 -0.60885167  1.49387443  0.30029655 -3.06079817]\n",
      " [ 1.00194764 -3.86326718 -0.60452694  1.48645842  0.30114365 -3.05708647]\n",
      " [ 1.01294053 -3.85925341 -0.60612196  1.49984646  0.30314088 -3.05865073]\n",
      " [ 0.98816705 -3.84216642 -0.59964269  1.46695566  0.31714284 -3.02019405]]\n",
      "WARNING:tensorflow:From D:\\anaconda3\\envs\\vae_lstm\\lib\\site-packages\\tensorflow_core\\python\\ops\\resource_variable_ops.py:1630: calling BaseResourceVariable.__init__ (from tensorflow.python.ops.resource_variable_ops) with constraint is deprecated and will be removed in a future version.\n",
      "Instructions for updating:\n",
      "If using Keras pass *_constraint arguments to layers.\n",
      "Model: \"model\"\n",
      "_________________________________________________________________\n",
      "Layer (type)                 Output Shape              Param #   \n",
      "=================================================================\n",
      "input_1 (InputLayer)         [(None, 11, 6)]           0         \n",
      "_________________________________________________________________\n",
      "lstm (LSTM)                  (None, 11, 64)            18176     \n",
      "_________________________________________________________________\n",
      "lstm_1 (LSTM)                (None, 11, 64)            33024     \n",
      "_________________________________________________________________\n",
      "lstm_2 (LSTM)                (None, 11, 6)             1704      \n",
      "=================================================================\n",
      "Total params: 52,904\n",
      "Trainable params: 52,904\n",
      "Non-trainable params: 0\n",
      "_________________________________________________________________\n",
      "../experiments/local-results/centralized_dense2/scada1/batch-512\\centralized_dense2-scada1-24-12-6-fixedSigma-0.1\\checkpoint/lstm/checkpoint\n",
      "LSTM model loaded.\n"
     ]
    }
   ],
   "source": [
    "# load LSTM model\n",
    "lstm_model = lstmKerasModel(data)\n",
    "lstm_model.produce_embeddings(config, model_vae, data, sess)\n",
    "lstm_nn_model = lstm_model.create_lstm_model(config)\n",
    "lstm_nn_model.summary()   # Display the model's architecture\n",
    "\n",
    "# checkpoint path\n",
    "checkpoint_path = config['checkpoint_dir_lstm'] + \"cp.ckpt\"\n",
    "checkpoint_dir = os.path.dirname(checkpoint_path)\n",
    "# Create a callback that saves the model's weights\n",
    "cp_callback = tf.keras.callbacks.ModelCheckpoint(filepath=checkpoint_path,\n",
    "                                                 save_weights_only=True,\n",
    "                                                 verbose=1)\n",
    "# load weights if possible\n",
    "lstm_model.load_model(lstm_nn_model, config, checkpoint_path)"
   ]
  },
  {
   "cell_type": "code",
   "execution_count": 9,
   "metadata": {},
   "outputs": [],
   "source": [
    "# load normalised time series\n",
    "save_dir = '../datasets/NAB-known-anomaly/'\n",
    "dataset = config['dataset']\n",
    "filename = '{}.npz'.format(dataset)\n",
    "result = dict(np.load(save_dir+filename, allow_pickle=True))\n",
    "if dataset == 'machine_temp':\n",
    "    result['test'] = result['test'][0]\n",
    "    result['idx_anomaly_test'] = result['idx_anomaly_test'][0]\n",
    "    result['t_test'] = result['t_test'][0]\n"
   ]
  },
  {
   "cell_type": "code",
   "execution_count": 10,
   "metadata": {},
   "outputs": [
    {
     "name": "stdout",
     "output_type": "stream",
     "text": [
      "The given sequence has 68658 samples\n",
      "test_windows  (68635, 24, 16)\n",
      "test_seq  (68371, 12, 24, 16)\n"
     ]
    }
   ],
   "source": [
    "def slice_rolling_windows_and_sequences(config, time_seq):\n",
    "    n_sample = len(time_seq)\n",
    "    time_seq = np.reshape(time_seq,(-1,config['n_channel']))\n",
    "    print(\"The given sequence has {} samples\".format(n_sample))\n",
    "    n_vae_win = n_sample - config['l_win'] + 1\n",
    "    shape = [n_vae_win, config['l_win'], config['n_channel']]\n",
    "    stride_ori = time_seq.strides\n",
    "    strides = np.insert(stride_ori, 0, stride_ori[0], axis = 0)\n",
    "    #rolling_windows = np.zeros((n_vae_win, config['l_win'], config['n_channel']))\n",
    "    rolling_windows = np.lib.stride_tricks.as_strided(time_seq,shape, strides, writeable = False)\n",
    "    #for i in range(n_vae_win):\n",
    "    #    rolling_windows[i] = time_seq[i:i + config['l_win']]\n",
    "    sample_m = np.mean(rolling_windows, axis=1)\n",
    "    sample_std = np.std(rolling_windows, axis=1)\n",
    "    n_lstm_seq = n_sample - config['l_seq']*config['l_win']+1\n",
    "    shape = [n_lstm_seq, config['l_seq'], config['l_win'], config['n_channel']]\n",
    "    strides = np.insert(stride_ori, 0, [stride_ori[-1], stride_ori[0]*config['l_win']], axis = 0)\n",
    "    lstm_seq = np.lib.stride_tricks.as_strided(time_seq,shape, strides, writeable = False)\n",
    "    #lstm_seq = np.zeros((n_lstm_seq, config['l_seq'], config['l_win'], config['n_channel']))\n",
    "    #for i in range(n_lstm_seq):\n",
    "    #    cur_seq = time_seq[i:i+config['l_seq']*config['l_win']]\n",
    "    #    for j in range(config['l_seq']):\n",
    "    #        lstm_seq[i,j] = cur_seq[config['l_win']*j:config['l_win']*(j+1)]\n",
    "    \n",
    "    return rolling_windows, lstm_seq, sample_m, sample_std\n",
    "\n",
    "test_windows, test_seq, test_sample_m, test_sample_std = slice_rolling_windows_and_sequences(config, result['test'])\n",
    "test_windows = np.reshape(test_windows, (-1,config['l_win'],config['n_channel']))\n",
    "test_seq = np.reshape(test_seq, (-1,config['l_seq'],config['l_win'],config['n_channel']))\n",
    "print('test_windows ',test_windows.shape)\n",
    "print('test_seq ',test_seq.shape)"
   ]
  },
  {
   "cell_type": "code",
   "execution_count": 11,
   "metadata": {},
   "outputs": [],
   "source": [
    "# Evaluate ELBO and LSTM prediction error on the validation set\n",
    "# evaluate some anomaly detection metrics\n",
    "def evaluate_vae_anomaly_metrics_for_a_window(test_win):\n",
    "    feed_dict = {model_vae.original_signal: np.expand_dims(test_win, 0),\n",
    "                 model_vae.is_code_input: False,\n",
    "                 model_vae.code_input: np.zeros((1, config['code_size']))}\n",
    "\n",
    "    # VAE reconstruction error\n",
    "    recons_win_vae = np.squeeze(sess.run(model_vae.decoded, feed_dict=feed_dict))\n",
    "    test_vae_recons_error = np.sum(np.square(recons_win_vae - test_win)) #them axis=(1,2)\n",
    "\n",
    "    # VAE latent embedding likelihood\n",
    "    vae_code_mean, vae_code_std = sess.run([model_vae.code_mean, model_vae.code_std_dev], feed_dict=feed_dict)\n",
    "    #print(vae_code_mean.shape, vae_code_std.shape)\n",
    "    test_vae_kl = 0.5 * (np.sum(np.square(vae_code_mean)) + \\\n",
    "                            np.sum(np.square(vae_code_std)) - \\\n",
    "                            np.sum(np.log(np.square(vae_code_std))) - config['code_size']) #them axis=1\n",
    "\n",
    "    # VAE ELBO loss\n",
    "    sigma2 = 0.0005\n",
    "    input_dims = model_vae.input_dims\n",
    "    sigma_regularisor = input_dims/2. * np.log(sigma2) + input_dims * np.pi\n",
    "    test_vae_elbo = test_vae_recons_error/sigma2 + test_vae_kl + sigma_regularisor\n",
    "    return test_vae_recons_error, test_vae_kl, test_vae_elbo\n",
    "\n",
    "def evaluate_lstm_anomaly_metric_for_a_seq(test_seq):\n",
    "    feed_dict = {model_vae.original_signal: test_seq,\n",
    "                 model_vae.is_code_input: False,\n",
    "                 model_vae.code_input: np.zeros((1, config['code_size']))}\n",
    "    vae_embedding = np.squeeze(sess.run(model_vae.code_mean, feed_dict=feed_dict))\n",
    "    #print(vae_embedding.shape)\n",
    "    lstm_embedding = np.squeeze(lstm_nn_model.predict(np.expand_dims(vae_embedding[:config['l_seq']-1], 0), batch_size=1))\n",
    "    #print(lstm_embedding.shape)\n",
    "    lstm_embedding_error = np.sum(np.square(vae_embedding[1:] - lstm_embedding))\n",
    "    # error_original = vae_embedding[1:] - lstm_embedding\n",
    "    #print(error_original.shape)\n",
    "    \n",
    "    # LSTM prediction error\n",
    "    feed_dict_lstm = {model_vae.original_signal: np.zeros((config['l_seq'] - 1, config['l_win'], config['n_channel'])),\n",
    "                      model_vae.is_code_input: True,\n",
    "                      model_vae.code_input: lstm_embedding}\n",
    "    recons_win_lstm = np.squeeze(sess.run(model_vae.decoded, feed_dict=feed_dict_lstm))\n",
    "    lstm_recons_error = np.sum(np.square(recons_win_lstm - np.squeeze(test_seq[1:])))\n",
    "    error_original = np.abs(recons_win_lstm - np.squeeze(test_seq[1:])).reshape((config['l_seq']-1,-1)) #them dong nay de tinh\n",
    "    return lstm_recons_error, lstm_embedding_error, error_original\n"
   ]
  },
  {
   "cell_type": "code",
   "execution_count": 12,
   "metadata": {},
   "outputs": [],
   "source": [
    "\n",
    "n_val_vae = data.val_set_vae['data'].shape[0]\n",
    "n_val_lstm = data.val_set_lstm['data'].shape[0]\n",
    "\n",
    "val_vae_recons_error = np.zeros(n_val_vae)\n",
    "val_vae_kl_error = np.zeros(n_val_vae)\n",
    "val_vae_elbo_loss = np.zeros(n_val_vae)\n",
    "for i in range(n_val_vae):\n",
    "    val_vae_recons_error[i], val_vae_kl_error[i], val_vae_elbo_loss[i] = evaluate_vae_anomaly_metrics_for_a_window(data.val_set_vae['data'][i])\n",
    "\n",
    "val_lstm_recons_error, val_lstm_embedding_error = np.zeros(n_val_lstm), np.zeros(n_val_lstm)\n",
    "val_lstm_error_original = np.zeros((n_val_lstm,config['l_seq']-1,config['l_win']*config['n_channel']))\n",
    "for i in range(n_val_lstm):\n",
    "    val_lstm_recons_error[i], val_lstm_embedding_error[i], val_lstm_error_original[i] = evaluate_lstm_anomaly_metric_for_a_seq(data.val_set_lstm['data'][i])\n",
    "    \n",
    "n_train_lstm = data.train_set_lstm['data'].shape[0]\n",
    "train_lstm_recons_error, train_lstm_embedding_error = np.zeros(n_train_lstm), np.zeros(n_train_lstm)\n",
    "train_lstm_error_original = np.zeros((n_train_lstm,config['l_seq']-1,config['l_win']*config['n_channel'])) #them de tinh OCSVM\n",
    "for i in range(n_train_lstm):\n",
    "    train_lstm_recons_error[i], train_lstm_embedding_error[i], train_lstm_error_original[i] = evaluate_lstm_anomaly_metric_for_a_seq(data.train_set_lstm['data'][i])"
   ]
  },
  {
   "cell_type": "code",
   "execution_count": 13,
   "metadata": {},
   "outputs": [
    {
     "data": {
      "text/plain": [
       "(16085, 24, 16)"
      ]
     },
     "execution_count": 13,
     "metadata": {},
     "output_type": "execute_result"
    }
   ],
   "source": [
    "np.shape(data.val_set_vae['data'])"
   ]
  },
  {
   "cell_type": "code",
   "execution_count": 14,
   "metadata": {},
   "outputs": [
    {
     "name": "stdout",
     "output_type": "stream",
     "text": [
      "[ 6 22 38]\n"
     ]
    }
   ],
   "source": [
    "x = np.arange(12).reshape(3,4)\n",
    "print (np.sum(x,axis=1))"
   ]
  },
  {
   "cell_type": "code",
   "execution_count": 15,
   "metadata": {},
   "outputs": [],
   "source": [
    "#random.seed(1)\n",
    "#a, b, c = evaluate_vae_anomaly_metrics_for_a_window2(data.val_set_vae['data'])\n",
    "#random.seed(1)\n",
    "#a1,b1,c1 = evaluate_vae_anomaly_metrics_for_a_window(data.val_set_vae['data'][0])\n",
    "#a2,b2,c2 = evaluate_vae_anomaly_metrics_for_a_window(data.val_set_vae['data'][0])\n",
    "#print(a-val_vae_recons_error)\n",
    "#print(a1 - val_vae_recons_error[0])\n",
    "#print(a1-a2)"
   ]
  },
  {
   "cell_type": "code",
   "execution_count": 16,
   "metadata": {},
   "outputs": [
    {
     "data": {
      "text/plain": [
       "array([[[[ True,  True,  True, ...,  True,  True,  True],\n",
       "         [ True,  True,  True, ...,  True,  True,  True],\n",
       "         [ True,  True,  True, ...,  True,  True,  True],\n",
       "         ...,\n",
       "         [ True,  True,  True, ...,  True,  True,  True],\n",
       "         [ True,  True,  True, ...,  True,  True,  True],\n",
       "         [ True,  True,  True, ...,  True,  True,  True]],\n",
       "\n",
       "        [[ True,  True,  True, ...,  True,  True,  True],\n",
       "         [ True,  True,  True, ...,  True,  True,  True],\n",
       "         [ True,  True,  True, ...,  True,  True,  True],\n",
       "         ...,\n",
       "         [ True,  True,  True, ...,  True,  True,  True],\n",
       "         [ True,  True,  True, ...,  True,  True,  True],\n",
       "         [ True,  True,  True, ...,  True,  True,  True]],\n",
       "\n",
       "        [[ True,  True,  True, ...,  True,  True,  True],\n",
       "         [ True,  True,  True, ...,  True,  True,  True],\n",
       "         [ True,  True,  True, ...,  True,  True,  True],\n",
       "         ...,\n",
       "         [ True,  True,  True, ...,  True,  True,  True],\n",
       "         [ True,  True,  True, ...,  True,  True,  True],\n",
       "         [ True,  True,  True, ...,  True,  True,  True]],\n",
       "\n",
       "        ...,\n",
       "\n",
       "        [[ True,  True,  True, ...,  True,  True,  True],\n",
       "         [ True,  True,  True, ...,  True,  True,  True],\n",
       "         [ True,  True,  True, ...,  True,  True,  True],\n",
       "         ...,\n",
       "         [ True,  True,  True, ...,  True,  True,  True],\n",
       "         [ True,  True,  True, ...,  True,  True,  True],\n",
       "         [ True,  True,  True, ...,  True,  True,  True]],\n",
       "\n",
       "        [[ True,  True,  True, ...,  True,  True,  True],\n",
       "         [ True,  True,  True, ...,  True,  True,  True],\n",
       "         [ True,  True,  True, ...,  True,  True,  True],\n",
       "         ...,\n",
       "         [ True,  True,  True, ...,  True,  True,  True],\n",
       "         [ True,  True,  True, ...,  True,  True,  True],\n",
       "         [ True,  True,  True, ...,  True,  True,  True]],\n",
       "\n",
       "        [[ True,  True,  True, ...,  True,  True,  True],\n",
       "         [ True,  True,  True, ...,  True,  True,  True],\n",
       "         [ True,  True,  True, ...,  True,  True,  True],\n",
       "         ...,\n",
       "         [ True,  True,  True, ...,  True,  True,  True],\n",
       "         [ True,  True,  True, ...,  True,  True,  True],\n",
       "         [ True,  True,  True, ...,  True,  True,  True]]]])"
      ]
     },
     "execution_count": 16,
     "metadata": {},
     "output_type": "execute_result"
    }
   ],
   "source": [
    "x = data.val_set_vae['data'][0:7]\n",
    "y = np.expand_dims(x, 0)\n",
    "z = np.reshape(x,(-1,config['l_win'],config['n_channel']))\n",
    "y==z"
   ]
  },
  {
   "cell_type": "code",
   "execution_count": 17,
   "metadata": {},
   "outputs": [],
   "source": [
    "from scipy.stats import norm\n",
    "def plot_histogram(test_anomaly_metric, n_bins, title, mean=None, std=None, xlim=None, saveplot=True): #sua saveplot tu false thanh true\n",
    "    test_anomaly_list = np.squeeze(np.ndarray.flatten(test_anomaly_metric))\n",
    "    his = plt.hist(test_anomaly_list, bins=n_bins, density=True)\n",
    "    if mean is None and std is None:\n",
    "        mean = np.mean(test_anomaly_list)\n",
    "        std = np.std(test_anomaly_list)\n",
    "        legend_label = None\n",
    "    else:\n",
    "        legend_label = 1\n",
    "    x_axis = np.arange(mean-5*std, mean+5*std, std/100)\n",
    "    plt.plot(x_axis, norm.pdf(x_axis,mean,std))\n",
    "    plt.title(title)\n",
    "    plt.xlabel('anomaly score value')\n",
    "    plt.ylabel('probability density')\n",
    "    if xlim is not None:\n",
    "        plt.xlim(0, xlim)\n",
    "    else:\n",
    "        plt.xlim(0, np.amax(test_anomaly_list))\n",
    "    if legend_label is None:\n",
    "        plt.legend(('Fitted Gaussian', 'histogram'))\n",
    "    else:\n",
    "        plt.legend(('normal data distribution','test data distribution (contain anomalies)'))\n",
    "    if saveplot:\n",
    "        savefig(config['result_dir']+ title +'.pdf')\n",
    "    else:\n",
    "        plt.show()\n",
    "    threshold_25 = np.percentile(test_anomaly_list, 25)\n",
    "    threshold_75 = np.percentile(test_anomaly_list, 75)\n",
    "    threshold_1 = np.percentile(test_anomaly_list, 99)\n",
    "    idx_large_error = np.squeeze(np.argwhere(test_anomaly_metric > threshold_1))\n",
    "#     print(his[0][-20:])\n",
    "#     print(his[1][-20:])\n",
    "    print(\"25% percentile: {}\".format(threshold_25))\n",
    "    print(\"75% percentile: {}\".format(threshold_75))\n",
    "#     print(\"Median: {}\".format(np.median(test_anomaly_list)))\n",
    "#     print(\"Mean: {}\".format(np.mean(test_anomaly_list)))\n",
    "#     print(\"Std dev: {}\".format(np.std(test_anomaly_list)))\n",
    "    print(\"These windows scored the top 1% of anomaly metric ({}): \\n{}\".format(threshold_1, idx_large_error))\n",
    "    return mean, std"
   ]
  },
  {
   "cell_type": "code",
   "execution_count": 18,
   "metadata": {},
   "outputs": [
    {
     "name": "stdout",
     "output_type": "stream",
     "text": [
      "25% percentile: 21750.71348286309\n",
      "75% percentile: 149221.5962701593\n",
      "These windows scored the top 1% of anomaly metric (1674386.1815426932): \n",
      "[  250   251   252   253   254   255   543   544   545  1027  1028  1029\n",
      "  1030  1267  1268  1269  1739  2260  2582  2583  2587  2621  2622  3148\n",
      "  3533  3534  3671  3675  3711  3712  3713  3714  3957  3958  3959  3960\n",
      "  3961  3964  4253  4254  4256  4258  4349  4351  4420  4602  4941  4942\n",
      "  4943  4944  5041  5042  5043  5387  5691  5692  5693  6484  6485  7013\n",
      "  7014  7397  7398  7399  7400  7402  7403  8062  8228  8229  8232  8233\n",
      "  8234  8402  8403  8404  8405  8406  8875  9030  9032  9033  9034  9289\n",
      "  9290  9295  9909  9910  9911 10432 10433 10434 10435 10750 10751 10757\n",
      " 10758 10759 11237 11238 11239 11632 11633 11634 11638 11639 11640 11751\n",
      " 11752 11753 12066 12067 12068 12069 12543 12837 12838 12892 12893 12894\n",
      " 12901 12902 12903 12904 12923 12924 12925 12926 12959 12960 13203 13429\n",
      " 13430 13436 13988 13989 13990 13996 13997 14070 14071 14322 14323 14324\n",
      " 14451 14452 14453 14454 14912 14913 14914 14915 14916 15115 15116 15117\n",
      " 15269 15643 15646 15818 15819]\n"
     ]
    },
    {
     "data": {
      "image/png": "[encoded data removed]",
      "text/plain": [
       "<Figure size 432x288 with 1 Axes>"
      ]
     },
     "metadata": {
      "needs_background": "light"
     },
     "output_type": "display_data"
    }
   ],
   "source": [
    "# Histogram of VAE ELBO loss - validation set\n",
    "vae_elbo_m, vae_elbo_std = plot_histogram(val_vae_elbo_loss, 100, \n",
    "                                          'VAE ELBO error distribution on the val set', \n",
    "                                          mean=None, std=None, xlim=None)"
   ]
  },
  {
   "cell_type": "code",
   "execution_count": 19,
   "metadata": {},
   "outputs": [
    {
     "name": "stdout",
     "output_type": "stream",
     "text": [
      "25% percentile: 762.864360655555\n",
      "75% percentile: 2056.502703504296\n",
      "These windows scored the top 1% of anomaly metric (5190.423397595454): \n",
      "[   143    194    215 ... 144360 144403 144459]\n"
     ]
    },
    {
     "data": {
      "image/png": "[encoded data removed]",
      "text/plain": [
       "<Figure size 432x288 with 1 Axes>"
      ]
     },
     "metadata": {
      "needs_background": "light"
     },
     "output_type": "display_data"
    }
   ],
   "source": [
    "# Histogram of LSTM reconstruction error - train set \n",
    "#  --> to decide the anomaly detection threshold\n",
    "lstm_recons_m_train, lstm_recons_std_train = plot_histogram(train_lstm_recons_error, 100,  \n",
    "                                              'LSTM reconstruction error distribution on the train set', \n",
    "                                              mean=None, std=None, xlim=None)"
   ]
  },
  {
   "cell_type": "code",
   "execution_count": 20,
   "metadata": {
    "scrolled": true
   },
   "outputs": [
    {
     "name": "stdout",
     "output_type": "stream",
     "text": [
      "25% percentile: 757.8064443915127\n",
      "75% percentile: 2036.2644577650146\n",
      "These windows scored the top 1% of anomaly metric (5233.2711646185035): \n",
      "[  176   177   272   430   431   560   763   764   765   838  1094  1095\n",
      "  1096  1176  1218  1512  1525  1526  1608  1804  1971  1972  2174  2191\n",
      "  2202  2858  2909  2940  3180  3439  3440  3441  3535  3536  3537  3799\n",
      "  3800  3828  3859  4176  4177  4193  4238  4438  4439  4480  4526  4563\n",
      "  4661  4662  4663  4664  4850  4851  4863  4864  4908  4946  4957  5126\n",
      "  5127  5537  5591  5805  5806  5928  5982  6070  6154  6167  6270  6441\n",
      "  6442  7092  7093  7128  7455  7456  7565  7736  7737  7738  7933  8148\n",
      "  8159  8214  8215  8252  8253  8254  8262  8459  8491  8530  8582  8583\n",
      "  8655  8930  8970  9122  9123  9167  9577  9619  9803  9804 10183 10202\n",
      " 10203 10213 10259 10260 10491 10492 10493 10494 10539 10906 10915 11206\n",
      " 11207 11286 11287 11321 11333 11391 11392 11613 11614 11615 11711 11712\n",
      " 12266 12282 12358 12559 12560 12965 12966 12976 13084 13613 13625 13634\n",
      " 13719 13872 14184 14256 14257 14281 14570 14616 14646 14902 14929 14969\n",
      " 15165 15350 15554 15837 15920]\n"
     ]
    },
    {
     "data": {
      "image/png": "[encoded data removed]",
      "text/plain": [
       "<Figure size 432x288 with 1 Axes>"
      ]
     },
     "metadata": {
      "needs_background": "light"
     },
     "output_type": "display_data"
    }
   ],
   "source": [
    "# Histogram of LSTM reconstruction error - validation set \n",
    "#  --> to decide the anomaly detection threshold\n",
    "lstm_recons_m_val, lstm_recons_std_val = plot_histogram(val_lstm_recons_error, 100,  \n",
    "                                              'LSTM reconstruction error distribution on the val set', \n",
    "                                              mean=None, std=None, xlim=None)"
   ]
  },
  {
   "cell_type": "code",
   "execution_count": 21,
   "metadata": {},
   "outputs": [
    {
     "name": "stdout",
     "output_type": "stream",
     "text": [
      "All windows' reconstruction error is computed.\n",
      "The total number of windows is 68371\n"
     ]
    }
   ],
   "source": [
    "# Evaluate the anomaly metrics on the test windows and sequences\n",
    "n_test_lstm = test_seq.shape[0]\n",
    "\n",
    "test_lstm_recons_error, test_lstm_embedding_error = np.zeros(n_test_lstm), np.zeros(n_test_lstm)\n",
    "test_lstm_error_original = np.zeros((n_test_lstm,config['l_seq']-1,config['l_win']*config['n_channel']))\n",
    "for i in range(n_test_lstm):\n",
    "    test_lstm_recons_error[i], test_lstm_embedding_error[i], test_lstm_error_original[i] = evaluate_lstm_anomaly_metric_for_a_seq(test_seq[i])\n",
    "print(\"All windows' reconstruction error is computed.\")\n",
    "print(\"The total number of windows is {}\".format(len(test_lstm_recons_error)))"
   ]
  },
  {
   "cell_type": "code",
   "execution_count": 22,
   "metadata": {},
   "outputs": [
    {
     "name": "stdout",
     "output_type": "stream",
     "text": [
      "25% percentile: 3518.0487165070836\n",
      "75% percentile: 6663.930808824302\n",
      "These windows scored the top 1% of anomaly metric (10924.360277411526): \n",
      "[27427 27443 27451 27452 27459 27483 27491 27507 27515 27523 27547 27555\n",
      " 27571 27579 27580 27587 27611 27619 27635 27643 27644 27651 27675 27683\n",
      " 27699 27707 27708 27715 27739 27747 27763 27771 27772 27779 27803 27811\n",
      " 27827 27835 27836 27843 27867 27875 27891 27899 27907 27931 27939 27955\n",
      " 27963 27971 27995 28003 28019 28027 28035 28059 28067 28083 28091 28092\n",
      " 28099 28123 28131 28147 28155 28156 28163 28187 28195 28211 28219 28220\n",
      " 28227 28251 28259 28275 28281 28283 28284 28287 28291 28293 28297 28299\n",
      " 28300 28303 28305 28307 28309 28310 28313 28314 28315 28316 28318 28319\n",
      " 28321 28322 28323 28324 28325 28326 28327 28328 28329 28330 28331 28332\n",
      " 28334 28335 28337 28338 28339 28341 28342 28343 28345 28346 28347 28348\n",
      " 28350 28351 28353 28354 28355 28356 28357 28358 28359 28360 28361 28362\n",
      " 28363 28364 28366 28367 28369 28370 28371 28373 28374 28375 28376 28377\n",
      " 28378 28379 28380 28382 28383 28385 28387 28388 28389 28390 28391 28392\n",
      " 28393 28394 28395 28396 28397 28398 28399 28401 28403 28405 28406 28407\n",
      " 28409 28410 28411 28412 28414 28415 28417 28419 28421 28422 28423 28424\n",
      " 28425 28426 28427 28428 28430 28431 28433 28435 28437 28438 28439 28440\n",
      " 28441 28442 28443 28444 28446 28447 28449 28451 28452 28453 28454 28455\n",
      " 28456 28457 28458 28459 28460 28462 28463 28465 28467 28469 28470 28471\n",
      " 28472 28473 28474 28475 28476 28478 28479 28481 28483 28485 28486 28487\n",
      " 28488 28489 28490 28491 28492 28494 28495 28497 28499 28501 28502 28503\n",
      " 28504 28505 28506 28507 28508 28510 28511 28513 28515 28517 28518 28519\n",
      " 28520 28521 28522 28523 28524 28526 28527 28529 28531 28533 28534 28535\n",
      " 28536 28537 28538 28539 28540 28542 28543 28545 28547 28549 28550 28551\n",
      " 28552 28553 28554 28555 28556 28558 28559 28561 28563 28565 28566 28567\n",
      " 28568 28569 28570 28571 28572 28574 28575 28577 28579 28581 28582 28583\n",
      " 28584 28585 28586 28587 28588 28590 28591 28593 28595 28597 28598 28599\n",
      " 28600 28601 28602 28603 28604 28606 28607 28609 28610 28611 28613 28614\n",
      " 28615 28616 28617 28618 28619 28620 28622 28623 28625 28627 28629 28630\n",
      " 28631 28632 28633 28634 28635 28636 28639 28641 28643 28645 28646 28647\n",
      " 28648 28649 28650 28651 28652 28654 28655 28657 28659 28661 28662 28663\n",
      " 28664 28665 28666 28667 28668 28670 28671 28673 28675 28677 28678 28679\n",
      " 28680 28681 28682 28683 28684 28686 28687 28689 28691 28693 28694 28695\n",
      " 28696 28697 28698 28699 28700 28702 28703 28705 28706 28707 28708 28709\n",
      " 28710 28711 28712 28713 28714 28715 28716 28717 28718 28719 28721 28722\n",
      " 28723 28725 28726 28727 28729 28730 28731 28732 28734 28735 28737 28738\n",
      " 28739 28741 28742 28743 28745 28746 28747 28748 28750 28751 28753 28754\n",
      " 28755 28757 28758 28759 28760 28761 28762 28763 28764 28766 28767 28769\n",
      " 28771 28773 28774 28775 28777 28778 28779 28780 28781 28783 28785 28787\n",
      " 28789 28790 28793 28794 28795 28796 28799 28803 28805 28809 28811 28812\n",
      " 28819 28827 28828 28835 28844 28851 28859 28860 28867 28891 28899 28915\n",
      " 28923 28931 28947 28955 28963 28979 28987 28988 28995 29019 29027 29043\n",
      " 29051 29059 29083 29091 29107 29115 29123 29147 29155 29171 29179 29187\n",
      " 29211 29212 29219 29235 29243 29244 29275 29283 29299 29307 29308 29315\n",
      " 29339 29347 29363 29371 29372 29379 29403 29411 29427 29435 29436 29467\n",
      " 29491 29499 29539 29555 29596 29603 29619 29627 29667 29683 52241 52257\n",
      " 52259 52273 52275 52278 52291 52294 52305 52310 52321 52326 52337 52339\n",
      " 52342 52355 52358 52369 52374 52385 52387 52390 52403 52422 52427 52433\n",
      " 52438 52449 52451 52454 52465 52467 52470 52483 52486 52497 52502 52513\n",
      " 52515 52531 52550 52561 52566 52577 52582 52593 52595 52598 52625 52630\n",
      " 52641 52643 52646 52657 52659 52662 52673 52678 52689 52694 52705 52707\n",
      " 52710 52721 52723 52726 52737 52742 52753 52758 52769 52774 52785 52787\n",
      " 52790 52806 52817 52822 52833 52835 52838 52849 52851 52854 52865 52870\n",
      " 52881 52886 52897 52899 52913 52915 52918 52934 52945 52950 52961 52963\n",
      " 52966 52977 52979 52982 53009 53014 53025 53027 53030 53041 53043 53046\n",
      " 53057 53062 53073 53078 53089 53091 53094 53105 53107 53110 53121 53126\n",
      " 53137 53142 53153 53158 53169 53171 53174 53190 53201 53206 53217 53219\n",
      " 53222 53233 53235 53238 53249 53254 53265 53270 53281 53283 53286 53299]\n"
     ]
    },
    {
     "data": {
      "image/png": "[encoded data removed]",
      "text/plain": [
       "<Figure size 432x288 with 1 Axes>"
      ]
     },
     "metadata": {
      "needs_background": "light"
     },
     "output_type": "display_data"
    }
   ],
   "source": [
    "# Histogram of LSTM reconstruction error - test set \n",
    "#  --> to detect anomaly now\n",
    "_, _ = plot_histogram(test_lstm_recons_error, 100,\n",
    "                      'LSTM reconstruction error distribution on the test set', \n",
    "                      mean=lstm_recons_m_val, std=lstm_recons_std_val, xlim=None, saveplot=True)"
   ]
  },
  {
   "cell_type": "code",
   "execution_count": 23,
   "metadata": {},
   "outputs": [
    {
     "name": "stdout",
     "output_type": "stream",
     "text": [
      "(68371,)\n"
     ]
    }
   ],
   "source": [
    "# Produce the ground truth anomaly indices \n",
    "# if result['idx_split'][0] == 0:\n",
    "#     idx_anomaly_test = result['idx_anomaly_test']\n",
    "# else:\n",
    "#     idx_anomaly_test = result['idx_anomaly_test'][0]\n",
    "idx_anomaly_test = result['idx_anomaly_test']    \n",
    "anomaly_index_lstm = []\n",
    "test_labels_lstm = np.zeros(n_test_lstm)\n",
    "for i in range(len(idx_anomaly_test)):\n",
    "    idx_start = idx_anomaly_test[i]-(config['l_win']*config['l_seq']-1)\n",
    "    idx_end = idx_anomaly_test[i]+1\n",
    "    if idx_start < 0:\n",
    "        idx_start = 0\n",
    "    if idx_end > n_test_lstm:\n",
    "        idx_end = n_test_lstm\n",
    "    #anomaly_index_lstm.append(np.arange(idx_start,idx_end))\n",
    "    test_labels_lstm[idx_start:idx_end] = 1\n",
    "    \n",
    "print(test_labels_lstm.shape)"
   ]
  },
  {
   "cell_type": "code",
   "execution_count": 24,
   "metadata": {},
   "outputs": [
    {
     "name": "stdout",
     "output_type": "stream",
     "text": [
      "[    3     7    11 ... 68654 68655 68656]\n",
      "[]\n",
      "[1. 1. 1. ... 1. 1. 1.]\n"
     ]
    }
   ],
   "source": [
    "print(result['idx_anomaly_test'])\n",
    "print(list(anomaly_index_lstm))\n",
    "print(test_labels_lstm)"
   ]
  },
  {
   "cell_type": "code",
   "execution_count": 25,
   "metadata": {},
   "outputs": [
    {
     "name": "stdout",
     "output_type": "stream",
     "text": [
      "(5563.52855292545, 5092.49101638125, 5124.768017722603, 1550.5580713040454, 1544.6415304891839)\n",
      "(2217.92191599769, 2206.205498065775, 2210.2163851727832, 1117.6735364005458, 1113.1491368499653)\n"
     ]
    },
    {
     "data": {
      "image/png": "[encoded data removed]",
      "text/plain": [
       "<Figure size 432x288 with 1 Axes>"
      ]
     },
     "metadata": {
      "needs_background": "light"
     },
     "output_type": "display_data"
    }
   ],
   "source": [
    "test_normal_idx = np.squeeze(np.argwhere(test_labels_lstm==0))\n",
    "test_anomaly_idx = np.squeeze(np.argwhere(test_labels_lstm==1))\n",
    "test_lstm_recons_error_normal = test_lstm_recons_error[test_normal_idx]\n",
    "test_lstm_recons_error_anomaly = test_lstm_recons_error[test_anomaly_idx]\n",
    "lstm_recons_m_test_normal = np.mean(test_lstm_recons_error_normal)\n",
    "lstm_recons_std_test_normal = np.std(test_lstm_recons_error_normal)\n",
    "lstm_recons_m_test_anomaly = np.mean(test_lstm_recons_error_anomaly)\n",
    "lstm_recons_std_test_anomaly = np.std(test_lstm_recons_error_anomaly)\n",
    "lstm_recons_m_test = np.mean(test_lstm_recons_error)\n",
    "lstm_recons_std_test = np.std(test_lstm_recons_error)\n",
    "\n",
    "means = (lstm_recons_m_test_normal, lstm_recons_m_test_anomaly, lstm_recons_m_test, lstm_recons_m_train, lstm_recons_m_val)\n",
    "stds = (lstm_recons_std_test_normal, lstm_recons_std_test_anomaly, lstm_recons_std_test, lstm_recons_std_train, lstm_recons_std_val)\n",
    "for mean,std in zip(means,stds):\n",
    "    x_axis = np.arange(mean-5*std, mean+5*std, std/100)\n",
    "    #x_axis = np.arange(-10000,10000)\n",
    "    plt.plot(x_axis, norm.pdf(x_axis,mean,std))\n",
    "plt.legend(('test_norm', 'test_anomaly', 'test', 'train', 'val')) \n",
    "#plt.xscale('log')\n",
    "#plt.yscale('log')\n",
    "plt.title(\"Distribution of different sets on \" + config['dataset'])\n",
    "#print(lstm_recons_m_test,lstm_recons_std_test)\n",
    "#print(lstm_recons_m_val,lstm_recons_std_val)\n",
    "#print(lstm_recons_m_test_normal,lstm_recons_m_test_normal)\n",
    "print(means)\n",
    "print(stds)"
   ]
  },
  {
   "cell_type": "code",
   "execution_count": 26,
   "metadata": {},
   "outputs": [],
   "source": [
    "def return_anomaly_idx_by_threshold(test_anomaly_metric, threshold):\n",
    "    test_list = np.squeeze(np.ndarray.flatten(test_anomaly_metric))\n",
    "    idx_error = np.squeeze(np.argwhere(test_anomaly_metric > threshold))\n",
    "    \n",
    "    if len(idx_error.shape) == 0:\n",
    "        idx_error = np.expand_dims(idx_error, 0)\n",
    "    \n",
    "    return list(idx_error)"
   ]
  },
  {
   "cell_type": "code",
   "execution_count": 27,
   "metadata": {},
   "outputs": [],
   "source": [
    "def augment_detected_idx(idx_detected_anomaly, anomaly_index):\n",
    "    n_anomaly = len(anomaly_index)\n",
    "    idx_detected_anomaly_extended = list(idx_detected_anomaly)\n",
    "    for i in range(n_anomaly):\n",
    "        #print(idx_detected_anomaly)\n",
    "        for j in idx_detected_anomaly:\n",
    "            if j in anomaly_index[i]:\n",
    "                in_original_detection = set(idx_detected_anomaly_extended)\n",
    "                currect_anomaly_win = set(anomaly_index[i])\n",
    "                idx_detected_anomaly_extended = idx_detected_anomaly_extended + list(currect_anomaly_win - in_original_detection)\n",
    "                #print(j)\n",
    "                break\n",
    "                \n",
    "    return list(np.sort(idx_detected_anomaly_extended))"
   ]
  },
  {
   "cell_type": "code",
   "execution_count": 28,
   "metadata": {},
   "outputs": [],
   "source": [
    "def count_TP_FP_FN(idx_detected_anomaly, anomaly_index, test_labels):\n",
    "    n_TP = 0\n",
    "    n_FP = 0\n",
    "    #n_detection = len(idx_detected_anomaly)\n",
    "    #for i in range(n_detection):\n",
    "    for i in idx_detected_anomaly:    \n",
    "        #if test_labels[idx_detected_anomaly[i]] == 1:\n",
    "        if test_labels[i] == 1:    \n",
    "            n_TP = n_TP + 1\n",
    "        else:\n",
    "            n_FP = n_FP + 1 #both branch the same?\n",
    "    \n",
    "    idx_undetected = list(set(np.arange(len(test_labels)))- set(idx_detected_anomaly))\n",
    "    n_FN = 0\n",
    "    for i in idx_undetected:\n",
    "        if test_labels[i] == 1:\n",
    "            n_FN = n_FN + 1\n",
    "    n_TN = len(test_labels) - n_TP - n_FP - n_FN\n",
    "    return n_TP, n_FP, n_FN, n_TN"
   ]
  },
  {
   "cell_type": "code",
   "execution_count": 29,
   "metadata": {},
   "outputs": [],
   "source": [
    "def compute_precision_and_recall(idx_detected_anomaly, anomaly_index, test_labels):\n",
    "    # compute true positive\n",
    "    n_TP, n_FP, n_FN, n_TN = count_TP_FP_FN(idx_detected_anomaly, anomaly_index, test_labels)\n",
    "    \n",
    "    if n_TP + n_FP == 0:\n",
    "        precision = 1\n",
    "    else:\n",
    "        precision = n_TP / (n_TP + n_FP)\n",
    "    recall = n_TP / (n_TP + n_FN)\n",
    "    if precision + recall == 0:\n",
    "        F1 = 0\n",
    "    else:\n",
    "        F1 = 2* (precision * recall)/(precision + recall)\n",
    "    fpr = n_FP/(n_FP + n_TN)    \n",
    "    \n",
    "    return precision, recall, F1, fpr, n_TP, n_FP, n_FN"
   ]
  },
  {
   "cell_type": "code",
   "execution_count": 46,
   "metadata": {},
   "outputs": [
    {
     "name": "stdout",
     "output_type": "stream",
     "text": [
      "threshold list: [14148.98826715 14007.52895008 13866.06963302 13724.61031596\n",
      " 13583.1509989  13441.69168184 13300.23236478 13158.77304771\n",
      " 13017.31373065 12875.85441359 12734.39509653 12592.93577947\n",
      " 12451.47646241 12310.01714535 12168.55782828 12027.09851122\n",
      " 11885.63919416 11744.1798771  11602.72056004 11461.26124298\n",
      " 11319.80192591 11178.34260885 11036.88329179 10895.42397473\n",
      " 10753.96465767 10612.50534061 10471.04602354 10329.58670648\n",
      " 10188.12738942 10046.66807236  9905.2087553   9763.74943824\n",
      "  9622.29012118  9480.83080411  9339.37148705  9197.91216999\n",
      "  9056.45285293  8914.99353587  8773.53421881  8632.07490174\n",
      "  8490.61558468  8349.15626762  8207.69695056  8066.2376335\n",
      "  7924.77831644  7783.31899938  7641.85968231  7500.40036525\n",
      "  7358.94104819  7217.48173113  7076.02241407  6934.56309701\n",
      "  6793.10377994  6651.64446288  6510.18514582  6368.72582876\n",
      "  6227.2665117   6085.80719464  5944.34787758  5802.88856051\n",
      "  5661.42924345  5519.96992639  5378.51060933  5237.05129227\n",
      "  5095.59197521  4954.13265814  4812.67334108  4671.21402402\n",
      "  4529.75470696  4388.2953899   4246.83607284  4105.37675578\n",
      "  3963.91743871  3822.45812165  3680.99880459  3539.53948753\n",
      "  3398.08017047  3256.62085341  3115.16153634  2973.70221928\n",
      "  2832.24290222  2690.78358516  2549.3242681   2407.86495104\n",
      "  2266.40563398  2124.94631691  1983.48699985  1842.02768279\n",
      "  1700.56836573  1559.10904867  1417.64973161  1276.19041454\n",
      "  1134.73109748   993.27178042   851.81246336   710.3531463\n",
      "   568.89382924   427.43451218   285.97519511   144.51587805]\n"
     ]
    }
   ],
   "source": [
    "n_threshold = 100 #25\n",
    "precision = np.zeros(n_threshold)\n",
    "recall = np.zeros(n_threshold)\n",
    "F1 = np.zeros(n_threshold)\n",
    "precision_aug = np.zeros(n_threshold)\n",
    "recall_aug = np.zeros(n_threshold)\n",
    "F1_aug = np.zeros(n_threshold)\n",
    "fpr_aug = np.zeros(n_threshold)\n",
    "i = 0\n",
    "threshold_list = np.linspace(np.amin(test_lstm_recons_error), np.amax(test_lstm_recons_error), n_threshold, endpoint=True)\n",
    "threshold_list = np.flip(threshold_list)\n",
    "for threshold in threshold_list:\n",
    "    #print(threshold_list[i])\n",
    "    idx_detection_lstm = return_anomaly_idx_by_threshold(test_lstm_recons_error, threshold)\n",
    "    precision[i], recall[i], F1[i], _, _, _, _ = compute_precision_and_recall(idx_detection_lstm, \n",
    "                                                                           anomaly_index_lstm, \n",
    "                                                                           test_labels_lstm)\n",
    "    # augment the detection using the ground truth labels\n",
    "    # a method to discount the factor one anomaly appears in multiple consecutive windows\n",
    "    # introduced in \"Unsupervised anomaly detection via variational auto-encoder for seasonal kpis in web applications\"\n",
    "    idx_detection_lstm_augmented = augment_detected_idx(idx_detection_lstm, anomaly_index_lstm)\n",
    "    precision_aug[i], recall_aug[i], F1_aug[i], fpr_aug[i], _, _, _ = compute_precision_and_recall(idx_detection_lstm_augmented, \n",
    "                                                                                       anomaly_index_lstm, \n",
    "                                                                                       test_labels_lstm)\n",
    "    i = i + 1\n",
    "    #print(precision, recall, F1)    \n",
    "    \n",
    "print('threshold list:',threshold_list)"
   ]
  },
  {
   "cell_type": "code",
   "execution_count": 47,
   "metadata": {},
   "outputs": [
    {
     "name": "stdout",
     "output_type": "stream",
     "text": [
      "AUC = 0.4337624184771798\n"
     ]
    },
    {
     "data": {
      "image/png": "[encoded data removed]",
      "text/plain": [
       "<Figure size 432x288 with 1 Axes>"
      ]
     },
     "metadata": {
      "needs_background": "light"
     },
     "output_type": "display_data"
    }
   ],
   "source": [
    "from sklearn import metrics\n",
    "fpr, tpr, _ = metrics.roc_curve(test_labels_lstm,test_lstm_recons_error, pos_label = 1)\n",
    "auc = metrics.auc(fpr,tpr)\n",
    "print('AUC =', auc)\n",
    "lw = 2\n",
    "plt.plot(fpr, tpr, color='darkorange', lw=lw, label='ROC curve (area = %0.4f)' % auc)\n",
    "plt.plot([0, 1], [0, 1], color='navy', lw=lw, linestyle='--')\n",
    "plt.xlim([0.0, 1.0])\n",
    "plt.ylim([0.0, 1.05])\n",
    "plt.xlabel('False Positive Rate')\n",
    "plt.ylabel('True Positive Rate')\n",
    "plt.title('Receiver operating characteristic of ' + config['dataset'])\n",
    "plt.legend(loc=\"lower right\")\n",
    "savefig(config['result_dir']+ 'roc.pdf')\n",
    "plt.show()"
   ]
  },
  {
   "cell_type": "code",
   "execution_count": 48,
   "metadata": {},
   "outputs": [
    {
     "name": "stdout",
     "output_type": "stream",
     "text": [
      "AUC = 0.4338305421969066\n"
     ]
    },
    {
     "data": {
      "image/png": "[encoded data removed]",
      "text/plain": [
       "<Figure size 432x288 with 1 Axes>"
      ]
     },
     "metadata": {
      "needs_background": "light"
     },
     "output_type": "display_data"
    }
   ],
   "source": [
    "tpr = np.insert(recall_aug,[0,n_threshold],[0,1])\n",
    "fpr = np.insert(fpr_aug,[0,n_threshold],[0,1])\n",
    "auc = metrics.auc(fpr,tpr)\n",
    "print('AUC =', auc)\n",
    "lw = 2\n",
    "plt.plot(fpr, tpr, color='darkorange', lw=lw, label='ROC curve (area = %0.4f)' % auc)\n",
    "plt.plot([0, 1], [0, 1], color='navy', lw=lw, linestyle='--')\n",
    "plt.xlim([0.0, 1.0])\n",
    "plt.ylim([0.0, 1.05])\n",
    "plt.xlabel('False Positive Rate')\n",
    "plt.ylabel('True Positive Rate')\n",
    "plt.title('Augmented Receiver operating characteristic of ' + config['dataset'])\n",
    "plt.legend(loc=\"lower right\")\n",
    "savefig(config['result_dir']+ 'augmentedroc.pdf')\n",
    "plt.show()"
   ]
  },
  {
   "cell_type": "code",
   "execution_count": 43,
   "metadata": {},
   "outputs": [
    {
     "name": "stdout",
     "output_type": "stream",
     "text": [
      "Best F1 score is 0.9645150542194222\n",
      "Best threshold is 144.51587805225773\n",
      "At this threshold, precision is 0.9314757934766711, recall is 0.9999842979618755\n",
      "Average precision is 0.9199560761831052\n",
      "\n",
      "Augmented detection:\n",
      "Best F1 score is 0.9645150542194222\n",
      "Best threshold is 144.51587805225773\n",
      "At this threshold, precision is 0.9314757934766711, recall is 0.9999842979618755\n",
      "Average precision is 0.9199560761831052\n"
     ]
    }
   ],
   "source": [
    "print(\"Best F1 score is {}\".format(np.amax(F1)))\n",
    "idx_best_threshold = np.squeeze(np.argwhere(F1 == np.amax(F1)))\n",
    "print(\"Best threshold is {}\".format(threshold_list[idx_best_threshold]))\n",
    "print(\"At this threshold, precision is {}, recall is {}\".format(precision[idx_best_threshold], recall[idx_best_threshold]))\n",
    "average_precision = np.sum(precision[1:] * (recall[1:] - recall[:-1]))\n",
    "print(\"Average precision is {}\".format(average_precision))\n",
    "\n",
    "print(\"\\nAugmented detection:\")\n",
    "print(\"Best F1 score is {}\".format(np.amax(F1_aug)))\n",
    "idx_best_threshold = np.squeeze(np.argwhere(F1_aug == np.amax(F1_aug)))\n",
    "print(\"Best threshold is {}\".format(threshold_list[idx_best_threshold]))\n",
    "best_thres = np.min(threshold_list[idx_best_threshold])\n",
    "print(\"At this threshold, precision is {}, recall is {}\".format(precision_aug[idx_best_threshold], \n",
    "                                                                recall_aug[idx_best_threshold]))\n",
    "\n",
    "average_precision_aug = np.sum(precision_aug[1:] * (recall_aug[1:] - recall_aug[:-1]))\n",
    "print(\"Average precision is {}\".format(average_precision_aug))"
   ]
  },
  {
   "cell_type": "code",
   "execution_count": 44,
   "metadata": {},
   "outputs": [
    {
     "name": "stdout",
     "output_type": "stream",
     "text": [
      "KQp is: 6282.27864082022 with q = 0.3\n",
      "KQp is: 4689.605721752701 with q = 0.5\n",
      "KQp is: 3690.88659792995 with q = 0.7\n"
     ]
    }
   ],
   "source": [
    "import math\n",
    "from scipy.stats import norm\n",
    "\n",
    "def KQp(data,q):\n",
    "#UNTITLED3 Summary of this function goes here\n",
    "#   Detailed explanation goes here\n",
    "    data2 = np.sort(data) #sap xep tang dan\n",
    "    n = np.shape(data2)[0] #kich thuoc\n",
    "    p = 1-q #q tu xet, dat bang smth 0.05 0.025 0.01\n",
    "    h = math.sqrt((p*q)/(n+1));\n",
    "    KQ=0;\n",
    "    for i in range(1,n+1):\n",
    "        a= ((i/n)-p)/h;\n",
    "        b= (((i-1)/n)-p)/h;\n",
    "        TP=(norm.cdf(a)-norm.cdf(b))*data2[i-1]; #normcdf thu trong matlab\n",
    "        KQ=KQ+TP;    \n",
    "    #KQp = KQ;\n",
    "    return KQ\n",
    "\n",
    "for i in [0.3, 0.5, 0.7]:\n",
    "    print(\"KQp is:\", KQp(test_lstm_recons_error,i),\"with q =\",i)\n",
    "\n",
    "    "
   ]
  },
  {
   "cell_type": "code",
   "execution_count": 35,
   "metadata": {},
   "outputs": [
    {
     "name": "stdout",
     "output_type": "stream",
     "text": [
      "KQp2 is: 3690.886597929951 with q = 0.3\n",
      "KQp2 is: 4689.605721752701 with q = 0.5\n",
      "KQp2 is: 6282.2786408202155 with q = 0.7\n"
     ]
    }
   ],
   "source": [
    "def KQp2(data,q):\n",
    "    data2 = np.sort(data)\n",
    "    n= np.shape(data2)[0]\n",
    "    h = math.sqrt(q*(1-q)/(n+1))\n",
    "    KQ = 0\n",
    "    for i in range (1,n+1) :\n",
    "        a = ((i/n)-q)/h\n",
    "        b = (((i-1)/n)-q)/h\n",
    "        TP = (norm.cdf(a)-norm.cdf(b))*data2[i-1]\n",
    "        KQ = KQ+TP\n",
    "    return KQ\n",
    "\n",
    "for i in [0.3, 0.5, 0.7]:\n",
    "    print(\"KQp2 is:\", KQp2(test_lstm_recons_error,i),\"with q =\",i)"
   ]
  },
  {
   "cell_type": "markdown",
   "metadata": {},
   "source": [
    "MATLAB code KQE:\n",
    "\n",
    "function KQp = function_KQp(data,q)\n",
    "%UNTITLED3 Summary of this function goes here\n",
    "%   Detailed explanation goes here\n",
    "data2=sort(data,1);\n",
    "n=size(data2,1);\n",
    "h=sqrt(q*(1-q)/(n+1));\n",
    "KQ=0;\n",
    "for i=1:n\n",
    "    a=((i/n)-q)/h;\n",
    "    b= (((i-1)/n)-q)/h;\n",
    "    TP=(normcdf(a)-normcdf(b))*data2(i);\n",
    "    KQ=KQ+TP;\n",
    "end\n",
    "KQp = KQ;\n",
    "end"
   ]
  },
  {
   "cell_type": "code",
   "execution_count": 50,
   "metadata": {},
   "outputs": [
    {
     "name": "stdout",
     "output_type": "stream",
     "text": [
      "Closest KQp threshold is 273.7296086212964 at q = 0.99\n",
      "\n",
      "PR evaluation using KQE:\n",
      "Precision: 0.9314343965606394\n",
      "Recall: 0.9899506956002889\n",
      "F1: 0.9598014812784972\n",
      "TP: 63046\n",
      "FP: 4641\n",
      "FN: 640\n",
      "\n",
      "Threshold is 144.51587805225773\n",
      "\n",
      "PR evaluation using augmented detection:\n",
      "Precision: 0.9314757934766711\n",
      "Recall: 0.9999842979618755\n",
      "F1: 0.9645150542194222\n",
      "TP: 63685\n",
      "FP: 4685\n",
      "FN: 1\n"
     ]
    }
   ],
   "source": [
    "# Now select a threshold\n",
    "threshold = best_thres\n",
    "q_list = [0.99, 0.98, 0.95, 0.9, 0.8, 0.7, 0.6, 0.5, 0.4, 0.3, 0.2, 0.1]\n",
    "temp = math.inf\n",
    "q_best = 0\n",
    "closest_thres = 0\n",
    "for q in q_list:\n",
    "    temp_thres = KQp(test_lstm_recons_error, q)\n",
    "    #print(temp_thres,abs(temp_thres - threshold))\n",
    "    if abs(temp_thres - threshold) < temp:\n",
    "        temp = abs(temp_thres - threshold)\n",
    "        q_best = q\n",
    "        KQp_thres = temp_thres\n",
    "    \n",
    "print(\"Closest KQp threshold is {} at q = {}\".format(KQp_thres,q_best))\n",
    "idx_detection = return_anomaly_idx_by_threshold(test_lstm_recons_error, KQp_thres)\n",
    "#print(idx_detection)\n",
    "idx_detection_augmented = augment_detected_idx(idx_detection, anomaly_index_lstm)\n",
    "#print(anomaly_index_lstm)\n",
    "#print(idx_detection_augmented)\n",
    "precision, recall, F1, _, n_TP, n_FP, n_FN = compute_precision_and_recall(idx_detection_augmented, \n",
    "                                                                       anomaly_index_lstm, \n",
    "                                                                       test_labels_lstm)\n",
    "print(\"\\nPR evaluation using KQE:\")\n",
    "print(\"Precision: {}\".format(precision))\n",
    "print(\"Recall: {}\".format(recall))\n",
    "print(\"F1: {}\".format(F1))\n",
    "print(\"TP: {}\".format(n_TP))\n",
    "print(\"FP: {}\".format(n_FP))\n",
    "print(\"FN: {}\".format(n_FN))\n",
    "\n",
    "print(\"\\nThreshold is {}\".format(threshold))\n",
    "idx_detection = return_anomaly_idx_by_threshold(test_lstm_recons_error, threshold)\n",
    "idx_detection_augmented = augment_detected_idx(idx_detection, anomaly_index_lstm)\n",
    "precision, recall, F1, _,n_TP, n_FP, n_FN = compute_precision_and_recall(idx_detection_augmented, \n",
    "                                                                       anomaly_index_lstm, \n",
    "                                                                       test_labels_lstm)\n",
    "print(\"\\nPR evaluation using augmented detection:\")\n",
    "print(\"Precision: {}\".format(precision))\n",
    "print(\"Recall: {}\".format(recall))\n",
    "print(\"F1: {}\".format(F1))\n",
    "print(\"TP: {}\".format(n_TP))\n",
    "print(\"FP: {}\".format(n_FP))\n",
    "print(\"FN: {}\".format(n_FN))"
   ]
  },
  {
   "cell_type": "raw",
   "metadata": {},
   "source": [
    "import pickle\n",
    "with open(config['exp_name']+'_'+config['dataset']+'.pkl', 'wb') as f:  # Python 3: open(..., 'wb')\n",
    "    pickle.dump([train_lstm_error_original, test_lstm_error_original, test_lstm_recons_error, test_labels_lstm, anomaly_index_lstm], f, protocol=4)"
   ]
  },
  {
   "cell_type": "code",
   "execution_count": 37,
   "metadata": {},
   "outputs": [],
   "source": [
    "def slice_detected_indices_into_seq(idx_detection, interval):\n",
    "    detected_seq = []\n",
    "    i = 0\n",
    "    while i < len(idx_detection):\n",
    "        if i == 0:\n",
    "            cur_seq = [idx_detection[i]]\n",
    "            i = i + 1\n",
    "        else:\n",
    "            if idx_detection[i] - idx_detection[i-1] > interval:\n",
    "                detected_seq.append(cur_seq)\n",
    "                cur_seq = [idx_detection[i]]\n",
    "            else:\n",
    "                cur_seq.append(idx_detection[i])\n",
    "                if i == len(idx_detection) - 1:\n",
    "                    detected_seq.append(cur_seq)\n",
    "            i = i + 1\n",
    "    \n",
    "    print(\"Detected {} sequences\".format(len(detected_seq)))\n",
    "    return detected_seq"
   ]
  },
  {
   "cell_type": "code",
   "execution_count": 38,
   "metadata": {},
   "outputs": [],
   "source": [
    "def plot_detected_anomalies(idx_detection, interval, dataset, result, detection_method, augmented_flag=1, y_scale=5, y_lim=None):\n",
    "    detected_seq = slice_detected_indices_into_seq(idx_detection, interval=interval)\n",
    "    #t_test = result['t_test']\n",
    "    test = result['test']\n",
    "    t_test = np.array(range(result['test'].shape[0]))\n",
    "    idx_anomaly_test = result['idx_anomaly_test']\n",
    "        \n",
    "    # plot detected sequences\n",
    "    fig, axs = plt.subplots(1, 1, figsize=(18, 5), edgecolor='k')\n",
    "    fig.subplots_adjust(hspace=.4, wspace=.4)\n",
    "    axs.plot(t_test, test)\n",
    "    for j in range(len(idx_anomaly_test)):\n",
    "        if j == 0:\n",
    "            axs.plot(idx_anomaly_test[j] * np.ones(20), np.linspace(-y_scale, y_scale, 20), 'r--', label='true anomalies')\n",
    "        else:\n",
    "            axs.plot(idx_anomaly_test[j] * np.ones(20), np.linspace(-y_scale, y_scale, 20), 'r--')\n",
    "        \n",
    "    for i in range(len(detected_seq)):\n",
    "        for j in detected_seq[i]:\n",
    "            if j == detected_seq[0][0]:\n",
    "                axs.plot((j+interval*2) * np.ones(20), np.linspace(-y_scale, -0.8*y_scale, 20), 'g-', label='detected anomalies')\n",
    "            else:\n",
    "                axs.plot((j+interval*2) * np.ones(20), np.linspace(-y_scale, -0.8*y_scale, 20), 'g-')\n",
    "    \n",
    "    for j in range(len(idx_anomaly_test)):\n",
    "        axs.plot(idx_anomaly_test[j] * np.ones(20), np.linspace(-y_scale, y_scale, 20), 'r--')\n",
    "\n",
    "    for i in range(len(detected_seq)):\n",
    "        interval_x = np.asarray([detected_seq[i][0], detected_seq[i][-1]+interval*2])\n",
    "        interval_y = np.asarray([y_scale,y_scale])\n",
    "        if i == 0:\n",
    "            axs.fill_between(interval_x, interval_y, alpha=0.2, color='y', label='detected anomaly windows')\n",
    "        else:\n",
    "            axs.fill_between(interval_x, interval_y, alpha=0.2, color='y')\n",
    "        interval_y = np.asarray([-y_scale,-y_scale])\n",
    "        axs.fill_between(interval_x, interval_y, alpha=0.2, color='y')\n",
    "    axs.grid(True)\n",
    "    axs.set_xlim(0, len(t_test))\n",
    "    if y_lim is None:\n",
    "        axs.set_ylim(-y_scale, y_scale)\n",
    "    else:\n",
    "        axs.set_ylim(-y_scale, y_lim)\n",
    "    axs.set_xlabel(\"timestamp (every {})\".format(result['t_unit']))\n",
    "    axs.set_ylabel(\"normalised readings\")\n",
    "    axs.set_title(\"{} dataset test sequence\\n(normalised by train mean {:.4f} and std {:.4f})\\n Detection method: {}\".format(dataset, \n",
    "                                                                                        np.mean(result['train_m']), \n",
    "                                                                                        np.mean(result['train_std']),\n",
    "                                                                                        detection_method))\n",
    "    axs.legend()\n",
    "    savefig(config['result_dir']+'detected_anomalies_{}_aug_{}.pdf'.format(detection_method, augmented_flag))"
   ]
  },
  {
   "cell_type": "raw",
   "metadata": {
    "scrolled": true
   },
   "source": [
    "plot_detected_anomalies(idx_detection_augmented, \n",
    "                        interval=config['l_win']*config['l_seq']/2, \n",
    "                        dataset=dataset, \n",
    "                        result=result, \n",
    "                        detection_method='lstm reconstruction error',\n",
    "                        augmented_flag=1,\n",
    "                        y_scale=5,\n",
    "                        y_lim=5)"
   ]
  },
  {
   "cell_type": "raw",
   "metadata": {},
   "source": [
    "from sklearn.metrics import precision_recall_curve\n",
    "from sklearn.metrics import precision_score\n",
    "from sklearn.metrics import recall_score\n",
    "from sklearn.metrics import f1_score\n",
    "from sklearn.metrics import accuracy_score\n",
    "\n",
    "#X_train =\n",
    "#predicted_train =\n",
    "#X_test = \n",
    "#predicted = \n",
    "y_test1 = np.where(test_labels_lstm==1,-1,1) #doi lai label\n",
    "\n",
    "#OCSVM\n",
    "#e=X_train - predicted_train\n",
    "#e = val_lstm_error_original\n",
    "e = train_lstm_error_original\n",
    "nsamples, nx, ny = e.shape\n",
    "d2_e = e.reshape((nsamples,nx*ny))\n",
    "\n",
    "nu = 0.5 #0.0055\n",
    "gamma = 'auto' #1.5\n",
    "from sklearn import svm\n",
    "clf = svm.OneClassSVM(nu=nu, kernel=\"rbf\", gamma=gamma)\n",
    "print ('Start fitting OCSVM')\n",
    "clf.fit(d2_e)\n",
    "print ('Done fitting OCSVM')\n",
    "\n",
    "#e_t=X_test - predicted\n"
   ]
  },
  {
   "cell_type": "raw",
   "metadata": {},
   "source": [
    "e_t = test_lstm_error_original\n",
    "nsamples, nx, ny = e_t.shape\n",
    "d2_e_t = e_t.reshape((nsamples,nx*ny))\n",
    "y_scores = clf.predict(d2_e_t)\n",
    "\n",
    "precision = precision_score(y_test1, y_scores, pos_label=-1)\n",
    "recall    = recall_score(y_test1, y_scores, pos_label=-1)\n",
    "accuracy = accuracy_score(y_test1, y_scores)\n",
    "f1 = f1_score(y_test1, y_scores, pos_label=-1)\n",
    "print ('OSCVM recons abs: ')\n",
    "print ('Precision : ', precision)\n",
    "print ('Recall: ', recall)\n",
    "print ('F1_score: ', f1)\n",
    "print ('Accuracy : ', accuracy)\n",
    "\n",
    "y_scores_idx_anomaly = np.squeeze(np.argwhere(y_scores==-1))\n",
    "idx_augmented = augment_detected_idx(y_scores_idx_anomaly, anomaly_index_lstm)\n",
    "y_scores[idx_augmented] = -1\n",
    "\n",
    "precision = precision_score(y_test1, y_scores, pos_label=-1)\n",
    "recall    = recall_score(y_test1, y_scores, pos_label=-1)\n",
    "accuracy = accuracy_score(y_test1, y_scores)\n",
    "f1 = f1_score(y_test1, y_scores, pos_label=-1)\n",
    "print ('\\nOSCVM recons abs augmented: ')\n",
    "print ('Precision : ', precision)\n",
    "print ('Recall: ', recall)\n",
    "print ('F1_score: ', f1)\n",
    "print ('Accuracy : ', accuracy)"
   ]
  },
  {
   "cell_type": "raw",
   "metadata": {},
   "source": [
    "print(y_scores_idx_anomaly)\n",
    "print(idx_augmented)"
   ]
  },
  {
   "cell_type": "raw",
   "metadata": {},
   "source": [
    "a = [1, 1, -1, -1]\n",
    "b = [1, -1, 1, 1]\n",
    "precision = precision_score(a,b,pos_label=-1)\n",
    "recall = recall_score(a,b,pos_label=-1)\n",
    "print(precision)\n",
    "print(recall)\n",
    "f1 = f1_score(a, b, pos_label=-1)\n",
    "print(f1)"
   ]
  },
  {
   "cell_type": "code",
   "execution_count": 39,
   "metadata": {},
   "outputs": [
    {
     "data": {
      "text/plain": [
       "[1, 3, 4, 1, 7, 8]"
      ]
     },
     "execution_count": 39,
     "metadata": {},
     "output_type": "execute_result"
    }
   ],
   "source": [
    "[1,3,4] + [1,7,8]"
   ]
  },
  {
   "cell_type": "code",
   "execution_count": null,
   "metadata": {},
   "outputs": [],
   "source": []
  }
 ],
 "metadata": {
  "kernelspec": {
   "display_name": "Python 3",
   "language": "python",
   "name": "python3"
  },
  "language_info": {
   "codemirror_mode": {
    "name": "ipython",
    "version": 3
   },
   "file_extension": ".py",
   "mimetype": "text/x-python",
   "name": "python",
   "nbconvert_exporter": "python",
   "pygments_lexer": "ipython3",
   "version": "3.7.9"
  }
 },
 "nbformat": 4,
 "nbformat_minor": 2
}
