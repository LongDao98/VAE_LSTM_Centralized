{
 "cells": [
  {
   "cell_type": "code",
   "execution_count": 1,
   "metadata": {},
   "outputs": [],
   "source": [
    "import warnings\n",
    "\n",
    "def fxn():\n",
    "    warnings.warn(\"deprecated\", DeprecationWarning)\n",
    "\n",
    "with warnings.catch_warnings():\n",
    "    warnings.simplefilter(\"ignore\")\n",
    "    fxn()"
   ]
  },
  {
   "cell_type": "code",
   "execution_count": 2,
   "metadata": {},
   "outputs": [],
   "source": [
    "import tensorflow as tf\n",
    "import tensorflow_probability as tfp\n",
    "import numpy as np\n",
    "import matplotlib.pylab as plt\n",
    "from matplotlib.pyplot import plot, ion, show, savefig, cla, figure\n",
    "import random\n",
    "import time"
   ]
  },
  {
   "cell_type": "code",
   "execution_count": 3,
   "metadata": {},
   "outputs": [],
   "source": [
    "import os\n",
    "os.environ[\"CUDA_DEVICE_ORDER\"]=\"PCI_BUS_ID\"   # see issue #152\n",
    "os.environ[\"CUDA_VISIBLE_DEVICES\"]=\"0\"\n",
    "\n",
    "import tensorflow as tf\n",
    "from data_loader import DataGenerator\n",
    "from models import VAEmodel, lstmKerasModel\n",
    "from trainers import vaeTrainer\n",
    "\n",
    "from utils import process_config, create_dirs, get_args"
   ]
  },
  {
   "cell_type": "code",
   "execution_count": 4,
   "metadata": {},
   "outputs": [
    {
     "name": "stdout",
     "output_type": "stream",
     "text": [
      "[]\n"
     ]
    }
   ],
   "source": [
    "from tensorflow.python.client import device_lib\n",
    "\n",
    "def get_available_gpus():\n",
    "    local_device_protos = device_lib.list_local_devices()\n",
    "    return [x.name for x in local_device_protos if x.device_type == 'GPU']\n",
    "\n",
    "print(get_available_gpus())"
   ]
  },
  {
   "cell_type": "code",
   "execution_count": 5,
   "metadata": {},
   "outputs": [
    {
     "name": "stdout",
     "output_type": "stream",
     "text": [
      "Device mapping:\n",
      "\n",
      "WARNING:tensorflow:From D:\\Future Internet Lab\\VAE_LSTM_Code\\codes\\base.py:62: The name tf.variable_scope is deprecated. Please use tf.compat.v1.variable_scope instead.\n",
      "\n",
      "WARNING:tensorflow:From D:\\Future Internet Lab\\VAE_LSTM_Code\\codes\\base.py:64: The name tf.assign is deprecated. Please use tf.compat.v1.assign instead.\n",
      "\n",
      "WARNING:tensorflow:From D:\\Future Internet Lab\\VAE_LSTM_Code\\codes\\models.py:25: The name tf.placeholder is deprecated. Please use tf.compat.v1.placeholder instead.\n",
      "\n",
      "WARNING:tensorflow:From D:\\anaconda3\\envs\\vae_lstm\\lib\\site-packages\\tensorflow_core\\python\\data\\util\\random_seed.py:58: where (from tensorflow.python.ops.array_ops) is deprecated and will be removed in a future version.\n",
      "Instructions for updating:\n",
      "Use tf.where in 2.0, which has the same broadcast rule as np.where\n",
      "WARNING:tensorflow:From D:\\Future Internet Lab\\VAE_LSTM_Code\\codes\\models.py:31: DatasetV1.make_initializable_iterator (from tensorflow.python.data.ops.dataset_ops) is deprecated and will be removed in a future version.\n",
      "Instructions for updating:\n",
      "Use `for ... in dataset:` to iterate over a dataset. If using `tf.estimator`, return the `Dataset` object directly from your input function. As a last resort, you can use `tf.compat.v1.data.make_initializable_iterator(dataset)`.\n",
      "WARNING:tensorflow:\n",
      "The TensorFlow contrib module will not be included in TensorFlow 2.0.\n",
      "For more information, please see:\n",
      "  * https://github.com/tensorflow/community/blob/master/rfcs/20180907-contrib-sunset.md\n",
      "  * https://github.com/tensorflow/addons\n",
      "  * https://github.com/tensorflow/io (for I/O related ops)\n",
      "If you depend on functionality not listed there, please file an issue.\n",
      "\n",
      "WARNING:tensorflow:From D:\\Future Internet Lab\\VAE_LSTM_Code\\codes\\models.py:49: dense (from tensorflow.python.layers.core) is deprecated and will be removed in a future version.\n",
      "Instructions for updating:\n",
      "Use keras.layers.Dense instead.\n",
      "WARNING:tensorflow:From D:\\anaconda3\\envs\\vae_lstm\\lib\\site-packages\\tensorflow_core\\python\\layers\\core.py:187: Layer.apply (from tensorflow.python.keras.engine.base_layer) is deprecated and will be removed in a future version.\n",
      "Instructions for updating:\n",
      "Please use `layer.__call__` method instead.\n",
      "conv_1: Tensor(\"encoder/dense/LeakyRelu:0\", shape=(?, 24, 16, 160), dtype=float32)\n",
      "WARNING:tensorflow:From D:\\Future Internet Lab\\VAE_LSTM_Code\\codes\\models.py:53: flatten (from tensorflow.python.layers.core) is deprecated and will be removed in a future version.\n",
      "Instructions for updating:\n",
      "Use keras.layers.flatten instead.\n",
      "finish encoder: \n",
      "Tensor(\"encoder/Add_1:0\", shape=(?, 6), dtype=float32)\n",
      "\n",
      "\n",
      "decoded is: Tensor(\"decoder/dense_2/BiasAdd:0\", shape=(?, 384), dtype=float32)\n",
      "finish decoder: \n",
      "Tensor(\"decoder/Reshape:0\", shape=(?, 24, 16), dtype=float32)\n",
      "\n",
      "\n",
      "sigma2: \n",
      "Tensor(\"sigma2_dataset/Square:0\", shape=(), dtype=float32)\n",
      "\n",
      "WARNING:tensorflow:From D:\\Future Internet Lab\\VAE_LSTM_Code\\codes\\base.py:73: The name tf.log is deprecated. Please use tf.math.log instead.\n",
      "\n",
      "WARNING:tensorflow:From D:\\Future Internet Lab\\VAE_LSTM_Code\\codes\\base.py:97: The name tf.get_collection is deprecated. Please use tf.compat.v1.get_collection instead.\n",
      "\n",
      "WARNING:tensorflow:From D:\\Future Internet Lab\\VAE_LSTM_Code\\codes\\base.py:97: The name tf.GraphKeys is deprecated. Please use tf.compat.v1.GraphKeys instead.\n",
      "\n",
      "WARNING:tensorflow:From D:\\Future Internet Lab\\VAE_LSTM_Code\\codes\\utils.py:82: The name tf.trainable_variables is deprecated. Please use tf.compat.v1.trainable_variables instead.\n",
      "\n",
      "The total number of trainable parameters in the encoder model is: 1475204\n",
      "The total number of trainable parameters in the decoder model is: 65992\n",
      "The total number of trainable parameters in the sigma2_dataset model is: 0\n",
      "Total number of trainable parameters in the VAE network is: 1541196\n",
      "WARNING:tensorflow:From D:\\Future Internet Lab\\VAE_LSTM_Code\\codes\\base.py:110: The name tf.train.AdamOptimizer is deprecated. Please use tf.compat.v1.train.AdamOptimizer instead.\n",
      "\n",
      "gvs for dataset: [(<tf.Tensor 'gradients/encoder/dense/Tensordot/transpose_1_grad/transpose:0' shape=(1, 160) dtype=float32>, <tf.Variable 'encoder/dense/kernel:0' shape=(1, 160) dtype=float32_ref>), (<tf.Tensor 'gradients/encoder/dense/BiasAdd_grad/tuple/control_dependency_1:0' shape=(160,) dtype=float32>, <tf.Variable 'encoder/dense/bias:0' shape=(160,) dtype=float32_ref>), (<tf.Tensor 'gradients/encoder/dense_1/MatMul_grad/tuple/control_dependency_1:0' shape=(61440, 24) dtype=float32>, <tf.Variable 'encoder/dense_1/kernel:0' shape=(61440, 24) dtype=float32_ref>), (<tf.Tensor 'gradients/encoder/dense_1/BiasAdd_grad/tuple/control_dependency_1:0' shape=(24,) dtype=float32>, <tf.Variable 'encoder/dense_1/bias:0' shape=(24,) dtype=float32_ref>), (<tf.Tensor 'gradients/encoder/code_mean/MatMul_grad/tuple/control_dependency_1:0' shape=(24, 6) dtype=float32>, <tf.Variable 'encoder/code_mean/kernel:0' shape=(24, 6) dtype=float32_ref>), (<tf.Tensor 'gradients/encoder/code_mean/BiasAdd_grad/tuple/control_dependency_1:0' shape=(6,) dtype=float32>, <tf.Variable 'encoder/code_mean/bias:0' shape=(6,) dtype=float32_ref>), (<tf.Tensor 'gradients/encoder/code_std_dev/MatMul_grad/tuple/control_dependency_1:0' shape=(24, 6) dtype=float32>, <tf.Variable 'encoder/code_std_dev/kernel:0' shape=(24, 6) dtype=float32_ref>), (<tf.Tensor 'gradients/encoder/code_std_dev/BiasAdd_grad/tuple/control_dependency_1:0' shape=(6,) dtype=float32>, <tf.Variable 'encoder/code_std_dev/bias:0' shape=(6,) dtype=float32_ref>), (<tf.Tensor 'gradients/decoder/dense/MatMul_grad/tuple/control_dependency_1:0' shape=(6, 24) dtype=float32>, <tf.Variable 'decoder/dense/kernel:0' shape=(6, 24) dtype=float32_ref>), (<tf.Tensor 'gradients/decoder/dense/BiasAdd_grad/tuple/control_dependency_1:0' shape=(24,) dtype=float32>, <tf.Variable 'decoder/dense/bias:0' shape=(24,) dtype=float32_ref>), (<tf.Tensor 'gradients/decoder/dense_1/MatMul_grad/tuple/control_dependency_1:0' shape=(24, 160) dtype=float32>, <tf.Variable 'decoder/dense_1/kernel:0' shape=(24, 160) dtype=float32_ref>), (<tf.Tensor 'gradients/decoder/dense_1/BiasAdd_grad/tuple/control_dependency_1:0' shape=(160,) dtype=float32>, <tf.Variable 'decoder/dense_1/bias:0' shape=(160,) dtype=float32_ref>), (<tf.Tensor 'gradients/decoder/dense_2/MatMul_grad/tuple/control_dependency_1:0' shape=(160, 384) dtype=float32>, <tf.Variable 'decoder/dense_2/kernel:0' shape=(160, 384) dtype=float32_ref>), (<tf.Tensor 'gradients/decoder/dense_2/BiasAdd_grad/tuple/control_dependency_1:0' shape=(384,) dtype=float32>, <tf.Variable 'decoder/dense_2/bias:0' shape=(384,) dtype=float32_ref>)]\n",
      "Reach the definition of loss for VAE\n",
      "WARNING:tensorflow:From D:\\Future Internet Lab\\VAE_LSTM_Code\\codes\\base.py:126: The name tf.train.Saver is deprecated. Please use tf.compat.v1.train.Saver instead.\n",
      "\n",
      "WARNING:tensorflow:From D:\\Future Internet Lab\\VAE_LSTM_Code\\codes\\base.py:135: The name tf.global_variables_initializer is deprecated. Please use tf.compat.v1.global_variables_initializer instead.\n",
      "\n",
      "WARNING:tensorflow:From D:\\Future Internet Lab\\VAE_LSTM_Code\\codes\\base.py:136: The name tf.local_variables_initializer is deprecated. Please use tf.compat.v1.local_variables_initializer instead.\n",
      "\n",
      "checkpoint_dir at loading: ../experiments/local-results/centralized_dense2/scada2/batch-512\\centralized_dense2-scada2-24-12-6-fixedSigma-0.1\\checkpoint/\n",
      "Loading model checkpoint ../experiments/local-results/centralized_dense2/scada2/batch-512\\centralized_dense2-scada2-24-12-6-fixedSigma-0.1\\checkpoint/-4230 ...\n",
      "\n",
      "INFO:tensorflow:Restoring parameters from ../experiments/local-results/centralized_dense2/scada2/batch-512\\centralized_dense2-scada2-24-12-6-fixedSigma-0.1\\checkpoint/-4230\n",
      "Model loaded.\n"
     ]
    }
   ],
   "source": [
    "# load VAE model\n",
    "config = process_config('NAB_config_centralized.json')\n",
    "# create the experiments dirs\n",
    "create_dirs([config['result_dir'], config['checkpoint_dir']])\n",
    "# create tensorflow session\n",
    "sess = tf.Session(config=tf.ConfigProto(log_device_placement=True))\n",
    "# create your data generator\n",
    "#config['dataset'] = 'TEK17'\n",
    "data = DataGenerator(config)\n",
    "# create a CNN model\n",
    "model_vae = VAEmodel(config)\n",
    "# create a CNN model\n",
    "trainer_vae = vaeTrainer(sess, model_vae, data, config)\n",
    "model_vae.load(sess)"
   ]
  },
  {
   "cell_type": "code",
   "execution_count": 6,
   "metadata": {},
   "outputs": [
    {
     "name": "stdout",
     "output_type": "stream",
     "text": [
      "dict_keys(['config', 'n_train_vae', 'n_val_vae', 'train_set_vae', 'val_set_vae', 'test_set_vae', 'n_train_lstm', 'n_val_lstm', 'train_set_lstm', 'val_set_lstm'])\n",
      "n_train_vae 144761\n",
      "n_val_vae 16085\n",
      "n_train_lstm 144523\n",
      "n_val_lstm 16059\n",
      "train_set_vae (144761, 24, 16)\n",
      "val_set_vae (16085, 24, 16)\n",
      "test_set_vae (512, 24, 16)\n",
      "train_set_lstm (144523, 12, 24, 16)\n",
      "val_set_lstm (16059, 12, 24, 16)\n"
     ]
    }
   ],
   "source": [
    "print(data.__dict__.keys())\n",
    "for i in data.__dict__.keys():\n",
    "    if (i not in ['config','train_set_vae','val_set_vae','test_set_vae','train_set_lstm', 'val_set_lstm']):\n",
    "        print(i ,getattr(data,i))\n",
    "for i in  ['train_set_vae','val_set_vae','test_set_vae','train_set_lstm', 'val_set_lstm']:\n",
    "    print(i ,(getattr(data,i)['data']).shape)\n",
    "\n",
    "\n"
   ]
  },
  {
   "cell_type": "code",
   "execution_count": 7,
   "metadata": {},
   "outputs": [
    {
     "data": {
      "text/plain": [
       "'scada2'"
      ]
     },
     "execution_count": 7,
     "metadata": {},
     "output_type": "execute_result"
    }
   ],
   "source": [
    "config['dataset']"
   ]
  },
  {
   "cell_type": "code",
   "execution_count": 8,
   "metadata": {},
   "outputs": [
    {
     "name": "stdout",
     "output_type": "stream",
     "text": [
      "Finish processing the embeddings of the entire dataset.\n",
      "The first a few embeddings are\n",
      "[[ 0.7902447  -0.40491048  1.18779719 -0.62242645  1.26633501  0.08732715]\n",
      " [ 0.7901727  -0.40593234  1.1875807  -0.62377065  1.26719129  0.08743408]\n",
      " [ 0.79218185 -0.42512742  1.18100262 -0.63502067  1.28702664  0.08739957]\n",
      " [ 0.79343927 -0.43433538  1.17745817 -0.63804907  1.29806924  0.08870837]\n",
      " [ 0.79320109 -0.43432751  1.17727816 -0.63805431  1.29874516  0.0897173 ]]\n",
      "WARNING:tensorflow:From D:\\anaconda3\\envs\\vae_lstm\\lib\\site-packages\\tensorflow_core\\python\\ops\\resource_variable_ops.py:1630: calling BaseResourceVariable.__init__ (from tensorflow.python.ops.resource_variable_ops) with constraint is deprecated and will be removed in a future version.\n",
      "Instructions for updating:\n",
      "If using Keras pass *_constraint arguments to layers.\n",
      "Model: \"model\"\n",
      "_________________________________________________________________\n",
      "Layer (type)                 Output Shape              Param #   \n",
      "=================================================================\n",
      "input_1 (InputLayer)         [(None, 11, 6)]           0         \n",
      "_________________________________________________________________\n",
      "lstm (LSTM)                  (None, 11, 64)            18176     \n",
      "_________________________________________________________________\n",
      "lstm_1 (LSTM)                (None, 11, 64)            33024     \n",
      "_________________________________________________________________\n",
      "lstm_2 (LSTM)                (None, 11, 6)             1704      \n",
      "=================================================================\n",
      "Total params: 52,904\n",
      "Trainable params: 52,904\n",
      "Non-trainable params: 0\n",
      "_________________________________________________________________\n",
      "../experiments/local-results/centralized_dense2/scada2/batch-512\\centralized_dense2-scada2-24-12-6-fixedSigma-0.1\\checkpoint/lstm/checkpoint\n",
      "LSTM model loaded.\n"
     ]
    }
   ],
   "source": [
    "# load LSTM model\n",
    "lstm_model = lstmKerasModel(data)\n",
    "lstm_model.produce_embeddings(config, model_vae, data, sess)\n",
    "lstm_nn_model = lstm_model.create_lstm_model(config)\n",
    "lstm_nn_model.summary()   # Display the model's architecture\n",
    "\n",
    "# checkpoint path\n",
    "checkpoint_path = config['checkpoint_dir_lstm'] + \"cp.ckpt\"\n",
    "checkpoint_dir = os.path.dirname(checkpoint_path)\n",
    "# Create a callback that saves the model's weights\n",
    "cp_callback = tf.keras.callbacks.ModelCheckpoint(filepath=checkpoint_path,\n",
    "                                                 save_weights_only=True,\n",
    "                                                 verbose=1)\n",
    "# load weights if possible\n",
    "lstm_model.load_model(lstm_nn_model, config, checkpoint_path)"
   ]
  },
  {
   "cell_type": "code",
   "execution_count": 9,
   "metadata": {},
   "outputs": [],
   "source": [
    "# load normalised time series\n",
    "save_dir = '../datasets/NAB-known-anomaly/'\n",
    "dataset = config['dataset']\n",
    "filename = '{}.npz'.format(dataset)\n",
    "result = dict(np.load(save_dir+filename, allow_pickle=True))\n",
    "if dataset == 'machine_temp':\n",
    "    result['test'] = result['test'][0]\n",
    "    result['idx_anomaly_test'] = result['idx_anomaly_test'][0]\n",
    "    result['t_test'] = result['t_test'][0]\n"
   ]
  },
  {
   "cell_type": "code",
   "execution_count": 10,
   "metadata": {},
   "outputs": [
    {
     "name": "stdout",
     "output_type": "stream",
     "text": [
      "The given sequence has 68658 samples\n",
      "test_windows  (68635, 24, 16)\n",
      "test_seq  (68371, 12, 24, 16)\n"
     ]
    }
   ],
   "source": [
    "def slice_rolling_windows_and_sequences(config, time_seq):\n",
    "    n_sample = len(time_seq)\n",
    "    time_seq = np.reshape(time_seq,(-1,config['n_channel']))\n",
    "    print(\"The given sequence has {} samples\".format(n_sample))\n",
    "    n_vae_win = n_sample - config['l_win'] + 1\n",
    "    shape = [n_vae_win, config['l_win'], config['n_channel']]\n",
    "    stride_ori = time_seq.strides\n",
    "    strides = np.insert(stride_ori, 0, stride_ori[0], axis = 0)\n",
    "    #rolling_windows = np.zeros((n_vae_win, config['l_win'], config['n_channel']))\n",
    "    rolling_windows = np.lib.stride_tricks.as_strided(time_seq,shape, strides, writeable = False)\n",
    "    #for i in range(n_vae_win):\n",
    "    #    rolling_windows[i] = time_seq[i:i + config['l_win']]\n",
    "    sample_m = np.mean(rolling_windows, axis=1)\n",
    "    sample_std = np.std(rolling_windows, axis=1)\n",
    "    n_lstm_seq = n_sample - config['l_seq']*config['l_win']+1\n",
    "    shape = [n_lstm_seq, config['l_seq'], config['l_win'], config['n_channel']]\n",
    "    strides = np.insert(stride_ori, 0, [stride_ori[-1], stride_ori[0]*config['l_win']], axis = 0)\n",
    "    lstm_seq = np.lib.stride_tricks.as_strided(time_seq,shape, strides, writeable = False)\n",
    "    #lstm_seq = np.zeros((n_lstm_seq, config['l_seq'], config['l_win'], config['n_channel']))\n",
    "    #for i in range(n_lstm_seq):\n",
    "    #    cur_seq = time_seq[i:i+config['l_seq']*config['l_win']]\n",
    "    #    for j in range(config['l_seq']):\n",
    "    #        lstm_seq[i,j] = cur_seq[config['l_win']*j:config['l_win']*(j+1)]\n",
    "    \n",
    "    return rolling_windows, lstm_seq, sample_m, sample_std\n",
    "\n",
    "test_windows, test_seq, test_sample_m, test_sample_std = slice_rolling_windows_and_sequences(config, result['test'])\n",
    "test_windows = np.reshape(test_windows, (-1,config['l_win'],config['n_channel']))\n",
    "test_seq = np.reshape(test_seq, (-1,config['l_seq'],config['l_win'],config['n_channel']))\n",
    "print('test_windows ',test_windows.shape)\n",
    "print('test_seq ',test_seq.shape)"
   ]
  },
  {
   "cell_type": "code",
   "execution_count": 11,
   "metadata": {},
   "outputs": [],
   "source": [
    "# Evaluate ELBO and LSTM prediction error on the validation set\n",
    "# evaluate some anomaly detection metrics\n",
    "def evaluate_vae_anomaly_metrics_for_a_window(test_win):\n",
    "    feed_dict = {model_vae.original_signal: np.expand_dims(test_win, 0),\n",
    "                 model_vae.is_code_input: False,\n",
    "                 model_vae.code_input: np.zeros((1, config['code_size']))}\n",
    "\n",
    "    # VAE reconstruction error\n",
    "    recons_win_vae = np.squeeze(sess.run(model_vae.decoded, feed_dict=feed_dict))\n",
    "    test_vae_recons_error = np.sum(np.square(recons_win_vae - test_win)) #them axis=(1,2)\n",
    "\n",
    "    # VAE latent embedding likelihood\n",
    "    vae_code_mean, vae_code_std = sess.run([model_vae.code_mean, model_vae.code_std_dev], feed_dict=feed_dict)\n",
    "    #print(vae_code_mean.shape, vae_code_std.shape)\n",
    "    test_vae_kl = 0.5 * (np.sum(np.square(vae_code_mean)) + \\\n",
    "                            np.sum(np.square(vae_code_std)) - \\\n",
    "                            np.sum(np.log(np.square(vae_code_std))) - config['code_size']) #them axis=1\n",
    "\n",
    "    # VAE ELBO loss\n",
    "    sigma2 = 0.0005\n",
    "    input_dims = model_vae.input_dims\n",
    "    sigma_regularisor = input_dims/2. * np.log(sigma2) + input_dims * np.pi\n",
    "    test_vae_elbo = test_vae_recons_error/sigma2 + test_vae_kl + sigma_regularisor\n",
    "    return test_vae_recons_error, test_vae_kl, test_vae_elbo\n",
    "\n",
    "def evaluate_lstm_anomaly_metric_for_a_seq(test_seq):\n",
    "    feed_dict = {model_vae.original_signal: test_seq,\n",
    "                 model_vae.is_code_input: False,\n",
    "                 model_vae.code_input: np.zeros((1, config['code_size']))}\n",
    "    vae_embedding = np.squeeze(sess.run(model_vae.code_mean, feed_dict=feed_dict))\n",
    "    #print(vae_embedding.shape)\n",
    "    lstm_embedding = np.squeeze(lstm_nn_model.predict(np.expand_dims(vae_embedding[:config['l_seq']-1], 0), batch_size=1))\n",
    "    #print(lstm_embedding.shape)\n",
    "    lstm_embedding_error = np.sum(np.square(vae_embedding[1:] - lstm_embedding))\n",
    "    # error_original = vae_embedding[1:] - lstm_embedding\n",
    "    #print(error_original.shape)\n",
    "    \n",
    "    # LSTM prediction error\n",
    "    feed_dict_lstm = {model_vae.original_signal: np.zeros((config['l_seq'] - 1, config['l_win'], config['n_channel'])),\n",
    "                      model_vae.is_code_input: True,\n",
    "                      model_vae.code_input: lstm_embedding}\n",
    "    recons_win_lstm = np.squeeze(sess.run(model_vae.decoded, feed_dict=feed_dict_lstm))\n",
    "    lstm_recons_error = np.sum(np.square(recons_win_lstm - np.squeeze(test_seq[1:])))\n",
    "    error_original = np.abs(recons_win_lstm - np.squeeze(test_seq[1:])).reshape((config['l_seq']-1,-1)) #them dong nay de tinh\n",
    "    return lstm_recons_error, lstm_embedding_error, error_original\n"
   ]
  },
  {
   "cell_type": "code",
   "execution_count": null,
   "metadata": {},
   "outputs": [],
   "source": [
    "# Evaluate ELBO and LSTM prediction error on the validation set\n",
    "# evaluate some anomaly detection metrics\n",
    "def evaluate_vae_anomaly_metrics_for_a_window2(test_win):\n",
    "    feed_dict = {model_vae.original_signal: test_win, #np.expand_dims(test_win, 0),\n",
    "                 model_vae.is_code_input: False,\n",
    "                 model_vae.code_input: np.zeros((1, config['code_size']))}\n",
    "\n",
    "    # VAE reconstruction error\n",
    "    recons_win_vae = np.squeeze(sess.run(model_vae.decoded, feed_dict=feed_dict))\n",
    "    test_vae_recons_error = np.sum(np.square(recons_win_vae - test_win),axis=(1,2)) #them axis=(1,2)\n",
    "\n",
    "    # VAE latent embedding likelihood\n",
    "    vae_code_mean, vae_code_std = sess.run([model_vae.code_mean, model_vae.code_std_dev], feed_dict=feed_dict)\n",
    "    #print(vae_code_mean.shape, vae_code_std.shape)\n",
    "    test_vae_kl = 0.5 * (np.sum(np.square(vae_code_mean),axis=1) + \\\n",
    "                            np.sum(np.square(vae_code_std),axis=1) - \\\n",
    "                            np.sum(np.log(np.square(vae_code_std)),axis=1) - config['code_size'])\n",
    "\n",
    "    # VAE ELBO loss\n",
    "    sigma2 = 0.0005\n",
    "    input_dims = model_vae.input_dims\n",
    "    sigma_regularisor = input_dims/2. * np.log(sigma2) + input_dims * np.pi\n",
    "    test_vae_elbo = test_vae_recons_error/sigma2 + test_vae_kl + sigma_regularisor\n",
    "    return test_vae_recons_error, test_vae_kl, test_vae_elbo\n",
    "\n",
    "def evaluate_lstm_anomaly_metric_for_a_seq2(test_seq):\n",
    "    feed_dict = {model_vae.original_signal: np.reshape(test_seq,(-1,config['l_win'],config['n_channel'])),\n",
    "                 model_vae.is_code_input: False,\n",
    "                 model_vae.code_input: np.zeros((1, config['code_size']))}\n",
    "    vae_embedding = np.squeeze(sess.run(model_vae.code_mean, feed_dict=feed_dict))\n",
    "    print(vae_embedding.shape)\n",
    "    #lstm_embedding = np.squeeze(lstm_nn_model.predict(np.expand_dims(vae_embedding[:config['l_seq']-1], 0), batch_size=1))\n",
    "    #lstm_input = np.reshape(vae_embedding,(-1,config['l_seq'],config['code_size']))\n",
    "    vae_embedding = vae_embedding.reshape((-1,config['l_seq'],config['code_size']))\n",
    "    lstm_embedding = np.squeeze(lstm_nn_model.predict(vae_embedding[:,:config['l_seq']-1], batch_size=1))\n",
    "    print(lstm_embedding.shape)\n",
    "    lstm_embedding_error = np.sum(np.square(vae_embedding[:,1:] - lstm_embedding),axis=(1,2)) #sua o doan [:,1:]\n",
    "    # error_original = vae_embedding[1:] - lstm_embedding\n",
    "    print(lstm_embedding_error.shape)\n",
    "    \n",
    "    # LSTM prediction error\n",
    "    feed_dict_lstm = {model_vae.original_signal: np.zeros((config['l_seq'] - 1, config['l_win'], config['n_channel'])),\n",
    "                      model_vae.is_code_input: True,\n",
    "                      model_vae.code_input: lstm_embedding}\n",
    "    recons_win_lstm = np.squeeze(sess.run(model_vae.decoded, feed_dict=feed_dict_lstm))\n",
    "    lstm_recons_error = np.sum(np.square(recons_win_lstm - np.squeeze(test_seq[1:])),axis=(1,2)) #them axis=(1,2)\n",
    "    error_original = np.abs(recons_win_lstm - np.squeeze(test_seq[1:])).reshape((config['l_seq']-1,-1)) #them dong nay de tinh\n",
    "    return lstm_recons_error, lstm_embedding_error, error_original\n"
   ]
  },
  {
   "cell_type": "code",
   "execution_count": null,
   "metadata": {
    "scrolled": false
   },
   "outputs": [],
   "source": [
    "val_vae_recons_error2, val_vae_kl_error2, val_vae_elbo_loss2 = evaluate_vae_anomaly_metrics_for_a_window2(data.val_set_vae['data'])\n",
    "val_lstm_recons_error2, val_lstm_embedding_error2, val_lstm_error_original2 = evaluate_lstm_anomaly_metric_for_a_seq2(data.val_set_lstm['data'])"
   ]
  },
  {
   "cell_type": "code",
   "execution_count": null,
   "metadata": {},
   "outputs": [],
   "source": [
    "print(val_vae_recons_error.shape, val_vae_kl_error.shape, val_vae_elbo_loss.shape)"
   ]
  },
  {
   "cell_type": "code",
   "execution_count": 12,
   "metadata": {},
   "outputs": [],
   "source": [
    "\n",
    "n_val_vae = data.val_set_vae['data'].shape[0]\n",
    "n_val_lstm = data.val_set_lstm['data'].shape[0]\n",
    "\n",
    "val_vae_recons_error = np.zeros(n_val_vae)\n",
    "val_vae_kl_error = np.zeros(n_val_vae)\n",
    "val_vae_elbo_loss = np.zeros(n_val_vae)\n",
    "for i in range(n_val_vae):\n",
    "    val_vae_recons_error[i], val_vae_kl_error[i], val_vae_elbo_loss[i] = evaluate_vae_anomaly_metrics_for_a_window(data.val_set_vae['data'][i])\n",
    "\n",
    "val_lstm_recons_error, val_lstm_embedding_error = np.zeros(n_val_lstm), np.zeros(n_val_lstm)\n",
    "val_lstm_error_original = np.zeros((n_val_lstm,config['l_seq']-1,config['l_win']*config['n_channel']))\n",
    "for i in range(n_val_lstm):\n",
    "    val_lstm_recons_error[i], val_lstm_embedding_error[i], val_lstm_error_original[i] = evaluate_lstm_anomaly_metric_for_a_seq(data.val_set_lstm['data'][i])\n",
    "    \n",
    "n_train_lstm = data.train_set_lstm['data'].shape[0]\n",
    "train_lstm_recons_error, train_lstm_embedding_error = np.zeros(n_train_lstm), np.zeros(n_train_lstm)\n",
    "train_lstm_error_original = np.zeros((n_train_lstm,config['l_seq']-1,config['l_win']*config['n_channel'])) #them de tinh OCSVM\n",
    "for i in range(n_train_lstm):\n",
    "    train_lstm_recons_error[i], train_lstm_embedding_error[i], train_lstm_error_original[i] = evaluate_lstm_anomaly_metric_for_a_seq(data.train_set_lstm['data'][i])"
   ]
  },
  {
   "cell_type": "code",
   "execution_count": 13,
   "metadata": {},
   "outputs": [
    {
     "data": {
      "text/plain": [
       "(16085, 24, 16)"
      ]
     },
     "execution_count": 13,
     "metadata": {},
     "output_type": "execute_result"
    }
   ],
   "source": [
    "np.shape(data.val_set_vae['data'])"
   ]
  },
  {
   "cell_type": "code",
   "execution_count": null,
   "metadata": {},
   "outputs": [],
   "source": [
    "x = np.arange(12).reshape(3,4)\n",
    "print (np.sum(x,axis=1))"
   ]
  },
  {
   "cell_type": "code",
   "execution_count": null,
   "metadata": {},
   "outputs": [],
   "source": [
    "#random.seed(1)\n",
    "#a, b, c = evaluate_vae_anomaly_metrics_for_a_window2(data.val_set_vae['data'])\n",
    "#random.seed(1)\n",
    "#a1,b1,c1 = evaluate_vae_anomaly_metrics_for_a_window(data.val_set_vae['data'][0])\n",
    "#a2,b2,c2 = evaluate_vae_anomaly_metrics_for_a_window(data.val_set_vae['data'][0])\n",
    "#print(a-val_vae_recons_error)\n",
    "#print(a1 - val_vae_recons_error[0])\n",
    "#print(a1-a2)"
   ]
  },
  {
   "cell_type": "code",
   "execution_count": null,
   "metadata": {},
   "outputs": [],
   "source": [
    "x = data.val_set_vae['data'][0:7]\n",
    "y = np.expand_dims(x, 0)\n",
    "z = np.reshape(x,(-1,config['l_win'],config['n_channel']))\n",
    "y==z"
   ]
  },
  {
   "cell_type": "code",
   "execution_count": 14,
   "metadata": {},
   "outputs": [],
   "source": [
    "from scipy.stats import norm\n",
    "def plot_histogram(test_anomaly_metric, n_bins, title, mean=None, std=None, xlim=None, saveplot=True): #sua saveplot tu false thanh true\n",
    "    test_anomaly_list = np.squeeze(np.ndarray.flatten(test_anomaly_metric))\n",
    "    his = plt.hist(test_anomaly_list, bins=n_bins, density=True)\n",
    "    if mean is None and std is None:\n",
    "        mean = np.mean(test_anomaly_list)\n",
    "        std = np.std(test_anomaly_list)\n",
    "        legend_label = None\n",
    "    else:\n",
    "        legend_label = 1\n",
    "    x_axis = np.arange(mean-5*std, mean+5*std, std/100)\n",
    "    plt.plot(x_axis, norm.pdf(x_axis,mean,std))\n",
    "    plt.title(title)\n",
    "    plt.xlabel('anomaly score value')\n",
    "    plt.ylabel('probability density')\n",
    "    if xlim is not None:\n",
    "        plt.xlim(0, xlim)\n",
    "    else:\n",
    "        plt.xlim(0, np.amax(test_anomaly_list))\n",
    "    if legend_label is None:\n",
    "        plt.legend(('Fitted Gaussian', 'histogram'))\n",
    "    else:\n",
    "        plt.legend(('normal data distribution','test data distribution (contain anomalies)'))\n",
    "    if saveplot:\n",
    "        savefig(config['result_dir']+ title +'.pdf')\n",
    "    else:\n",
    "        plt.show()\n",
    "    threshold_25 = np.percentile(test_anomaly_list, 25)\n",
    "    threshold_75 = np.percentile(test_anomaly_list, 75)\n",
    "    threshold_1 = np.percentile(test_anomaly_list, 99)\n",
    "    idx_large_error = np.squeeze(np.argwhere(test_anomaly_metric > threshold_1))\n",
    "#     print(his[0][-20:])\n",
    "#     print(his[1][-20:])\n",
    "    print(\"25% percentile: {}\".format(threshold_25))\n",
    "    print(\"75% percentile: {}\".format(threshold_75))\n",
    "#     print(\"Median: {}\".format(np.median(test_anomaly_list)))\n",
    "#     print(\"Mean: {}\".format(np.mean(test_anomaly_list)))\n",
    "#     print(\"Std dev: {}\".format(np.std(test_anomaly_list)))\n",
    "    print(\"These windows scored the top 1% of anomaly metric ({}): \\n{}\".format(threshold_1, idx_large_error))\n",
    "    return mean, std"
   ]
  },
  {
   "cell_type": "code",
   "execution_count": 15,
   "metadata": {},
   "outputs": [
    {
     "name": "stdout",
     "output_type": "stream",
     "text": [
      "25% percentile: 1384.8434175516013\n",
      "75% percentile: 9901.338436164271\n",
      "These windows scored the top 1% of anomaly metric (35159.45953058926): \n",
      "[   51   947   948  1040  1041  1042  1112  1189  1190  2160  2161  2410\n",
      "  2411  2412  2895  2949  3050  3052  3092  3372  3373  3451  3452  3453\n",
      "  4168  4169  4170  4171  4326  4328  4329  4330  4533  4535  4536  5268\n",
      "  5269  5270  5271  5272  5286  5287  5288  5377  5378  5394  5395  5396\n",
      "  5644  5645  5814  5992  6033  6034  6035  6036  6158  6159  6160  6161\n",
      "  6162  6163  6164  6222  6438  6576  6853  6924  6926  6927  6928  7026\n",
      "  7027  7028  7130  7133  7201  7239  7281  7282  7323  7967  7968  7970\n",
      "  8294  8393  8413  8414  8463  8464  8465  8545  8804  9023  9025  9259\n",
      "  9336  9369  9373  9374  9511  9512  9513  9559  9560  9720  9868 10316\n",
      " 10317 10420 10421 10422 10424 10425 10426 10427 10561 10562 10563 10816\n",
      " 10817 10818 10819 10898 10899 11055 11056 11124 11146 11377 11567 11568\n",
      " 11665 11743 11750 11751 11877 11878 11934 12059 12060 12162 12620 13450\n",
      " 13496 13497 13624 13729 13730 14006 14007 14008 14055 14257 14261 14262\n",
      " 15094 15095 15096 15397 15656]\n"
     ]
    },
    {
     "data": {
      "image/png": "[encoded data removed]",
      "text/plain": [
       "<Figure size 432x288 with 1 Axes>"
      ]
     },
     "metadata": {
      "needs_background": "light"
     },
     "output_type": "display_data"
    }
   ],
   "source": [
    "# Histogram of VAE ELBO loss - validation set\n",
    "vae_elbo_m, vae_elbo_std = plot_histogram(val_vae_elbo_loss, 100, \n",
    "                                          'VAE ELBO error distribution on the val set', \n",
    "                                          mean=None, std=None, xlim=None)"
   ]
  },
  {
   "cell_type": "code",
   "execution_count": 16,
   "metadata": {},
   "outputs": [
    {
     "name": "stdout",
     "output_type": "stream",
     "text": [
      "25% percentile: 58.70590999528745\n",
      "75% percentile: 120.16170090928784\n",
      "These windows scored the top 1% of anomaly metric (205.9575903563104): \n",
      "[    10    156    292 ... 144133 144272 144409]\n"
     ]
    },
    {
     "data": {
      "image/png": "[encoded data removed]",
      "text/plain": [
       "<Figure size 432x288 with 1 Axes>"
      ]
     },
     "metadata": {
      "needs_background": "light"
     },
     "output_type": "display_data"
    }
   ],
   "source": [
    "# Histogram of LSTM reconstruction error - train set \n",
    "#  --> to decide the anomaly detection threshold\n",
    "lstm_recons_m_train, lstm_recons_std_train = plot_histogram(train_lstm_recons_error, 100,  \n",
    "                                              'LSTM reconstruction error distribution on the train set', \n",
    "                                              mean=None, std=None, xlim=None)"
   ]
  },
  {
   "cell_type": "code",
   "execution_count": 17,
   "metadata": {
    "scrolled": true
   },
   "outputs": [
    {
     "name": "stdout",
     "output_type": "stream",
     "text": [
      "25% percentile: 58.85915040986747\n",
      "75% percentile: 120.41911994303331\n",
      "These windows scored the top 1% of anomaly metric (206.3223046615089): \n",
      "[  172   244   333   391   415   916   947   974   975   976  1054  1091\n",
      "  1125  1132  1590  1591  1618  1791  1792  2281  2305  2378  2459  2460\n",
      "  2461  2695  2878  2881  2900  2913  2955  2967  2981  3056  3506  3615\n",
      "  3724  3761  3983  4279  4304  4329  4408  4423  4466  4467  4531  4873\n",
      "  4902  4903  4939  5051  5082  5186  5187  5527  5528  5529  5591  5661\n",
      "  5741  6086  6186  6187  6188  6255  6265  6358  6540  7160  7161  7224\n",
      "  7225  7577  7616  7639  7685  7735  7787  7834  8242  8300  8372  8407\n",
      "  8467  8895  9058  9103  9159  9597  9647  9655  9693  9840  9942 10233\n",
      " 10238 10239 10317 10413 10431 10466 10754 10971 11022 11091 11120 11445\n",
      " 11615 11653 11678 11761 11796 11813 11856 12072 12237 12241 12263 12281\n",
      " 12299 12419 12442 12446 12502 12503 12925 12942 12954 12967 12981 12982\n",
      " 13150 13160 13569 13570 13613 13674 13755 13760 13794 13851 14272 14312\n",
      " 14351 14493 14494 14549 15008 15050 15132 15172 15173 15177 15679 15718\n",
      " 15742 15796 15823 15881 15887]\n"
     ]
    },
    {
     "data": {
      "image/png": "[encoded data removed]",
      "text/plain": [
       "<Figure size 432x288 with 1 Axes>"
      ]
     },
     "metadata": {
      "needs_background": "light"
     },
     "output_type": "display_data"
    }
   ],
   "source": [
    "# Histogram of LSTM reconstruction error - validation set \n",
    "#  --> to decide the anomaly detection threshold\n",
    "lstm_recons_m_val, lstm_recons_std_val = plot_histogram(val_lstm_recons_error, 100,  \n",
    "                                              'LSTM reconstruction error distribution on the val set', \n",
    "                                              mean=None, std=None, xlim=None)"
   ]
  },
  {
   "cell_type": "code",
   "execution_count": 18,
   "metadata": {},
   "outputs": [
    {
     "name": "stdout",
     "output_type": "stream",
     "text": [
      "All windows' reconstruction error is computed.\n",
      "The total number of windows is 68371\n"
     ]
    }
   ],
   "source": [
    "# Evaluate the anomaly metrics on the test windows and sequences\n",
    "n_test_lstm = test_seq.shape[0]\n",
    "\n",
    "test_lstm_recons_error, test_lstm_embedding_error = np.zeros(n_test_lstm), np.zeros(n_test_lstm)\n",
    "test_lstm_error_original = np.zeros((n_test_lstm,config['l_seq']-1,config['l_win']*config['n_channel']))\n",
    "for i in range(n_test_lstm):\n",
    "    test_lstm_recons_error[i], test_lstm_embedding_error[i], test_lstm_error_original[i] = evaluate_lstm_anomaly_metric_for_a_seq(test_seq[i])\n",
    "print(\"All windows' reconstruction error is computed.\")\n",
    "print(\"The total number of windows is {}\".format(len(test_lstm_recons_error)))"
   ]
  },
  {
   "cell_type": "code",
   "execution_count": 19,
   "metadata": {},
   "outputs": [
    {
     "name": "stdout",
     "output_type": "stream",
     "text": [
      "25% percentile: 699.555105085888\n",
      "75% percentile: 1021.8862681473408\n",
      "These windows scored the top 1% of anomaly metric (1707.6244479748461): \n",
      "[    9    25    41    57    73    89   105   121   137   153   169   185\n",
      "   201   217   233   249   265   281   297   313   329   345   361   377\n",
      "   393   409   425   441   457   473   489   505   521   537   553   569\n",
      "   585   601   617   633   649   665   681   697   713   729   745   761\n",
      "   777   793   809   825   841   857   873   889   905   921   937   953\n",
      "   969   985  1001  1017  1033  1049  1065  1081  1097  1113  1129  1145\n",
      "  1161  1177  1193  1209  1225  1241  1257  1273  1289  1305  1321  1337\n",
      "  1353  1369  1385  1401  1417  1433  1449  1465  1481  1497  1513  1529\n",
      "  1545  1561  1577  1593  1609  1625  1641  1657  1673  1689  1705  1721\n",
      "  1737  1753  1769  1785  1801  1817  1833  1849  1865  1881  1897  1913\n",
      "  1929  1945  1961  1977  1993  2009  2025  2041  2057  2073  2089  2105\n",
      "  2121  2137  2153  2169  2185  2201  2217  2233  2249  2265  2281  2297\n",
      "  2313  2329  2345  2361  2377  2393  2409  2425  2441  2457  2473  2489\n",
      "  2505  2521  2537  2553  2569  2585  2601  2617  2633  2649  2665  2681\n",
      "  2697  2713  2729  2745  2761  2777  2793  2809  2825  2841  2857  2873\n",
      "  2889  2905  2921  2937  2953  2969  2985  3001  3017  3033  3049  3065\n",
      "  3081  3097  3113  3129  3145  3161  3177  3193  3209  3225  3241  3257\n",
      "  3273  3289  3305  3321  3337  3353  3369  3385  3401  3417  3433  3449\n",
      "  3465  3481  3497  3513  3529  3545  3561  3577  3593  3609  3625  3689\n",
      " 10537 10553 10569 10585 10601 10617 10633 10649 10665 10681 10697 10713\n",
      " 10729 10745 10761 10777 10793 10809 10825 10841 10857 10873 10889 10905\n",
      " 10921 10937 10953 10969 10985 11001 11017 11033 11049 11065 11081 11097\n",
      " 11113 11129 11145 11161 11177 11193 11209 11225 11241 11257 11273 11289\n",
      " 11305 11321 11337 11353 11369 11385 11401 11417 11433 11449 11465 11481\n",
      " 11497 11513 11529 11545 11561 11577 11593 11609 11625 11641 11657 11673\n",
      " 11689 11705 11721 11737 11753 11769 11785 11801 11817 11833 11849 11865\n",
      " 11881 11897 11913 11929 11945 11961 11977 11993 12009 12025 12041 12057\n",
      " 12073 12089 12105 12121 12137 12153 12169 12185 12201 12217 12233 12249\n",
      " 12265 12281 12297 12313 12329 12345 12361 12377 12393 12409 12425 12441\n",
      " 12457 12473 12489 12505 12521 12537 12553 12569 12585 12601 12617 12633\n",
      " 12649 12665 12681 12697 12713 12729 12745 12761 12777 12793 12809 12825\n",
      " 12841 12857 12873 12889 12905 12921 12937 12953 12969 12985 13001 13017\n",
      " 13033 13049 13065 13081 13097 13113 13129 13145 13161 13177 13193 13209\n",
      " 13225 13241 13257 13273 13289 13305 13321 13337 13353 13369 13385 13401\n",
      " 13417 13433 13449 13465 13481 13497 13513 13529 13545 13561 13577 13593\n",
      " 13609 13625 13641 13657 13673 13689 13705 13721 13737 13753 13769 13785\n",
      " 13801 13817 13833 13849 13865 13881 13897 13913 13929 13945 13961 13977\n",
      " 13993 14009 14025 14041 14057 14073 14089 14105 14121 14137 14153 14169\n",
      " 14185 14201 14217 14233 14249 14265 14281 14297 14313 14329 14345 14361\n",
      " 14377 14393 14409 14425 14441 14457 14473 14489 14505 14521 14537 14553\n",
      " 14569 14585 14601 14617 14633 14649 14665 14681 15705 15721 15737 15753\n",
      " 15769 15785 15801 15817 15833 15849 15865 15881 15897 15913 15929 15945\n",
      " 15961 15977 15993 16009 16025 16041 16057 16073 16089 16105 16121 16137\n",
      " 16153 16169 16185 16201 16217 16233 16249 16265 16281 16297 16313 16329\n",
      " 16345 16361 16377 16393 16409 16425 16441 16457 16473 16489 16505 16521\n",
      " 16537 16553 16569 16585 16601 16617 16633 16649 16665 16681 16697 59545\n",
      " 59561 59577 59593 59609 59625 59641 59657 59673 59689 59705 59721 59737\n",
      " 59753 59769 59785 59801 59817 59833 59849 59865 59881 59897 59913 59929\n",
      " 59945 59961 59977 59993 60009 60025 60041 60057 60073 60089 60105 60121\n",
      " 60137 60153 60169 60185 60201 60217 60233 60249 60265 60281 60297 60313\n",
      " 60329 60345 60361 60377 60393 60409 60425 60441 60457 60473 60489 60505\n",
      " 60521 60537 60553 60569 60585 60601 60617 60633 60649 60665 60681 60697\n",
      " 60713 60729 60745 60761 60777 60793 60809 60825 60841 60857 60873 60889\n",
      " 60905 60921 60937 60953 60969 60985 61001 61017 61033 61049 61065 61081\n",
      " 61097 61113 61129 61145 61161 61177 61193 61209 61225 61241 61257 61273\n",
      " 61289 61305 61321 61337 61353 61369 61385 61401 61417 61433 61449 61465\n",
      " 61481 61497 61513 61529 61545 61561 61577 61593 61609 61625 61641 61657]\n"
     ]
    },
    {
     "data": {
      "image/png": "[encoded data removed]",
      "text/plain": [
       "<Figure size 432x288 with 1 Axes>"
      ]
     },
     "metadata": {
      "needs_background": "light"
     },
     "output_type": "display_data"
    }
   ],
   "source": [
    "# Histogram of LSTM reconstruction error - test set \n",
    "#  --> to detect anomaly now\n",
    "_, _ = plot_histogram(test_lstm_recons_error, 100,\n",
    "                      'LSTM reconstruction error distribution on the test set', \n",
    "                      mean=lstm_recons_m_val, std=lstm_recons_std_val, xlim=None, saveplot=True)"
   ]
  },
  {
   "cell_type": "code",
   "execution_count": 20,
   "metadata": {},
   "outputs": [
    {
     "name": "stdout",
     "output_type": "stream",
     "text": [
      "(68371,)\n"
     ]
    }
   ],
   "source": [
    "# Produce the ground truth anomaly indices \n",
    "# if result['idx_split'][0] == 0:\n",
    "#     idx_anomaly_test = result['idx_anomaly_test']\n",
    "# else:\n",
    "#     idx_anomaly_test = result['idx_anomaly_test'][0]\n",
    "idx_anomaly_test = result['idx_anomaly_test']    \n",
    "anomaly_index_lstm = []\n",
    "test_labels_lstm = np.zeros(n_test_lstm)\n",
    "for i in range(len(idx_anomaly_test)):\n",
    "    idx_start = idx_anomaly_test[i]-(config['l_win']*config['l_seq']-1)\n",
    "    idx_end = idx_anomaly_test[i]+1\n",
    "    if idx_start < 0:\n",
    "        idx_start = 0\n",
    "    if idx_end > n_test_lstm:\n",
    "        idx_end = n_test_lstm\n",
    "    #anomaly_index_lstm.append(np.arange(idx_start,idx_end))\n",
    "    test_labels_lstm[idx_start:idx_end] = 1\n",
    "    \n",
    "print(test_labels_lstm.shape)"
   ]
  },
  {
   "cell_type": "code",
   "execution_count": null,
   "metadata": {},
   "outputs": [],
   "source": [
    "print(result['idx_anomaly_test'])\n",
    "print(list(anomaly_index_lstm))\n",
    "print(test_labels_lstm)"
   ]
  },
  {
   "cell_type": "code",
   "execution_count": 21,
   "metadata": {},
   "outputs": [
    {
     "name": "stdout",
     "output_type": "stream",
     "text": [
      "(870.3939301799157, 851.8253358620926, 853.097715443772, 91.4536607216849, 91.7052529590754)\n",
      "(319.43018425183374, 332.30235978396945, 331.4694702786605, 44.853792687429355, 44.67465626318684)\n"
     ]
    },
    {
     "data": {
      "image/png": "[encoded data removed]",
      "text/plain": [
       "<Figure size 432x288 with 1 Axes>"
      ]
     },
     "metadata": {
      "needs_background": "light"
     },
     "output_type": "display_data"
    }
   ],
   "source": [
    "test_normal_idx = np.squeeze(np.argwhere(test_labels_lstm==0))\n",
    "test_anomaly_idx = np.squeeze(np.argwhere(test_labels_lstm==1))\n",
    "test_lstm_recons_error_normal = test_lstm_recons_error[test_normal_idx]\n",
    "test_lstm_recons_error_anomaly = test_lstm_recons_error[test_anomaly_idx]\n",
    "lstm_recons_m_test_normal = np.mean(test_lstm_recons_error_normal)\n",
    "lstm_recons_std_test_normal = np.std(test_lstm_recons_error_normal)\n",
    "lstm_recons_m_test_anomaly = np.mean(test_lstm_recons_error_anomaly)\n",
    "lstm_recons_std_test_anomaly = np.std(test_lstm_recons_error_anomaly)\n",
    "lstm_recons_m_test = np.mean(test_lstm_recons_error)\n",
    "lstm_recons_std_test = np.std(test_lstm_recons_error)\n",
    "\n",
    "means = (lstm_recons_m_test_normal, lstm_recons_m_test_anomaly, lstm_recons_m_test, lstm_recons_m_train, lstm_recons_m_val)\n",
    "stds = (lstm_recons_std_test_normal, lstm_recons_std_test_anomaly, lstm_recons_std_test, lstm_recons_std_train, lstm_recons_std_val)\n",
    "for mean,std in zip(means,stds):\n",
    "    x_axis = np.arange(mean-5*std, mean+5*std, std/100)\n",
    "    #x_axis = np.arange(-10000,10000)\n",
    "    plt.plot(x_axis, norm.pdf(x_axis,mean,std))\n",
    "plt.legend(('test_norm', 'test_anomaly', 'test', 'train', 'val')) \n",
    "#plt.xscale('log')\n",
    "#plt.yscale('log')\n",
    "plt.title(\"Distribution of different sets on \" + config['dataset'])\n",
    "#print(lstm_recons_m_test,lstm_recons_std_test)\n",
    "#print(lstm_recons_m_val,lstm_recons_std_val)\n",
    "#print(lstm_recons_m_test_normal,lstm_recons_m_test_normal)\n",
    "print(means)\n",
    "print(stds)"
   ]
  },
  {
   "cell_type": "code",
   "execution_count": 22,
   "metadata": {},
   "outputs": [],
   "source": [
    "def return_anomaly_idx_by_threshold(test_anomaly_metric, threshold):\n",
    "    test_list = np.squeeze(np.ndarray.flatten(test_anomaly_metric))\n",
    "    idx_error = np.squeeze(np.argwhere(test_anomaly_metric > threshold))\n",
    "    \n",
    "    if len(idx_error.shape) == 0:\n",
    "        idx_error = np.expand_dims(idx_error, 0)\n",
    "    \n",
    "    return list(idx_error)"
   ]
  },
  {
   "cell_type": "code",
   "execution_count": 23,
   "metadata": {},
   "outputs": [],
   "source": [
    "def augment_detected_idx(idx_detected_anomaly, anomaly_index):\n",
    "    n_anomaly = len(anomaly_index)\n",
    "    idx_detected_anomaly_extended = list(idx_detected_anomaly)\n",
    "    for i in range(n_anomaly):\n",
    "        #print(idx_detected_anomaly)\n",
    "        for j in idx_detected_anomaly:\n",
    "            if j in anomaly_index[i]:\n",
    "                in_original_detection = set(idx_detected_anomaly_extended)\n",
    "                currect_anomaly_win = set(anomaly_index[i])\n",
    "                idx_detected_anomaly_extended = idx_detected_anomaly_extended + list(currect_anomaly_win - in_original_detection)\n",
    "                #print(j)\n",
    "                break\n",
    "                \n",
    "    return list(np.sort(idx_detected_anomaly_extended))"
   ]
  },
  {
   "cell_type": "code",
   "execution_count": 24,
   "metadata": {},
   "outputs": [],
   "source": [
    "def count_TP_FP_FN(idx_detected_anomaly, anomaly_index, test_labels):\n",
    "    n_TP = 0\n",
    "    n_FP = 0\n",
    "    #n_detection = len(idx_detected_anomaly)\n",
    "    #for i in range(n_detection):\n",
    "    for i in idx_detected_anomaly:    \n",
    "        #if test_labels[idx_detected_anomaly[i]] == 1:\n",
    "        if test_labels[i] == 1:    \n",
    "            n_TP = n_TP + 1\n",
    "        else:\n",
    "            n_FP = n_FP + 1 #both branch the same?\n",
    "    \n",
    "    idx_undetected = list(set(np.arange(len(test_labels)))- set(idx_detected_anomaly))\n",
    "    n_FN = 0\n",
    "    for i in idx_undetected:\n",
    "        if test_labels[i] == 1:\n",
    "            n_FN = n_FN + 1\n",
    "    \n",
    "    return n_TP, n_FP, n_FN"
   ]
  },
  {
   "cell_type": "code",
   "execution_count": 25,
   "metadata": {},
   "outputs": [],
   "source": [
    "def compute_precision_and_recall(idx_detected_anomaly, anomaly_index, test_labels):\n",
    "    # compute true positive\n",
    "    n_TP, n_FP, n_FN = count_TP_FP_FN(idx_detected_anomaly, anomaly_index, test_labels)\n",
    "    \n",
    "    if n_TP + n_FP == 0:\n",
    "        precision = 1\n",
    "    else:\n",
    "        precision = n_TP / (n_TP + n_FP)\n",
    "    recall = n_TP / (n_TP + n_FN)\n",
    "    if precision + recall == 0:\n",
    "        F1 = 0\n",
    "    else:\n",
    "        F1 = 2* (precision * recall)/(precision + recall)\n",
    "    \n",
    "    return precision, recall, F1, n_TP, n_FP, n_FN"
   ]
  },
  {
   "cell_type": "code",
   "execution_count": 26,
   "metadata": {},
   "outputs": [
    {
     "name": "stdout",
     "output_type": "stream",
     "text": [
      "threshold list: [1921.69079467 1842.0720047  1762.45321473 1682.83442476 1603.21563479\n",
      " 1523.59684483 1443.97805486 1364.35926489 1284.74047492 1205.12168495\n",
      " 1125.50289498 1045.88410501  966.26531504  886.64652507  807.0277351\n",
      "  727.40894513  647.79015517  568.1713652   488.55257523  408.93378526\n",
      "  329.31499529  249.69620532  170.07741535   90.45862538   10.83983541]\n"
     ]
    }
   ],
   "source": [
    "n_threshold = 25\n",
    "precision = np.zeros(n_threshold)\n",
    "recall = np.zeros(n_threshold)\n",
    "F1 = np.zeros(n_threshold)\n",
    "precision_aug = np.zeros(n_threshold)\n",
    "recall_aug = np.zeros(n_threshold)\n",
    "F1_aug = np.zeros(n_threshold)\n",
    "i = 0\n",
    "threshold_list = np.linspace(np.amin(test_lstm_recons_error), np.amax(test_lstm_recons_error), n_threshold, endpoint=True)\n",
    "threshold_list = np.flip(threshold_list)\n",
    "for threshold in threshold_list:\n",
    "    #print(threshold_list[i])\n",
    "    idx_detection_lstm = return_anomaly_idx_by_threshold(test_lstm_recons_error, threshold)\n",
    "    precision[i], recall[i], F1[i], _, _, _ = compute_precision_and_recall(idx_detection_lstm, \n",
    "                                                                           anomaly_index_lstm, \n",
    "                                                                           test_labels_lstm)\n",
    "    # augment the detection using the ground truth labels\n",
    "    # a method to discount the factor one anomaly appears in multiple consecutive windows\n",
    "    # introduced in \"Unsupervised anomaly detection via variational auto-encoder for seasonal kpis in web applications\"\n",
    "    idx_detection_lstm_augmented = augment_detected_idx(idx_detection_lstm, anomaly_index_lstm)\n",
    "    precision_aug[i], recall_aug[i], F1_aug[i], _, _, _ = compute_precision_and_recall(idx_detection_lstm_augmented, \n",
    "                                                                                       anomaly_index_lstm, \n",
    "                                                                                       test_labels_lstm)\n",
    "    i = i + 1\n",
    "    #print(precision, recall, F1)    \n",
    "    \n",
    "print('threshold list:',threshold_list)"
   ]
  },
  {
   "cell_type": "code",
   "execution_count": 27,
   "metadata": {},
   "outputs": [
    {
     "name": "stdout",
     "output_type": "stream",
     "text": [
      "Best F1 score is 0.9645150542194222\n",
      "Best threshold is 10.839835412727433\n",
      "At this threshold, precision is 0.9314757934766711, recall is 0.9999842979618755\n",
      "Average precision is 0.9282604420535463\n",
      "\n",
      "Augmented detection:\n",
      "Best F1 score is 0.9645150542194222\n",
      "Best threshold is 10.839835412727433\n",
      "At this threshold, precision is 0.9314757934766711, recall is 0.9999842979618755\n",
      "Average precision is 0.9282604420535463\n"
     ]
    }
   ],
   "source": [
    "print(\"Best F1 score is {}\".format(np.amax(F1)))\n",
    "idx_best_threshold = np.squeeze(np.argwhere(F1 == np.amax(F1)))\n",
    "print(\"Best threshold is {}\".format(threshold_list[idx_best_threshold]))\n",
    "print(\"At this threshold, precision is {}, recall is {}\".format(precision[idx_best_threshold], recall[idx_best_threshold]))\n",
    "average_precision = np.sum(precision[1:] * (recall[1:] - recall[:-1]))\n",
    "print(\"Average precision is {}\".format(average_precision))\n",
    "\n",
    "print(\"\\nAugmented detection:\")\n",
    "print(\"Best F1 score is {}\".format(np.amax(F1_aug)))\n",
    "idx_best_threshold = np.squeeze(np.argwhere(F1_aug == np.amax(F1_aug)))\n",
    "print(\"Best threshold is {}\".format(threshold_list[idx_best_threshold]))\n",
    "best_thres = np.min(threshold_list[idx_best_threshold])\n",
    "print(\"At this threshold, precision is {}, recall is {}\".format(precision_aug[idx_best_threshold], \n",
    "                                                                recall_aug[idx_best_threshold]))\n",
    "\n",
    "average_precision_aug = np.sum(precision_aug[1:] * (recall_aug[1:] - recall_aug[:-1]))\n",
    "print(\"Average precision is {}\".format(average_precision_aug))"
   ]
  },
  {
   "cell_type": "code",
   "execution_count": null,
   "metadata": {},
   "outputs": [],
   "source": [
    "import math\n",
    "from scipy.stats import norm\n",
    "\n",
    "def KQp(data,q):\n",
    "#UNTITLED3 Summary of this function goes here\n",
    "#   Detailed explanation goes here\n",
    "    data2 = np.sort(data) #sap xep tang dan\n",
    "    n = np.shape(data2)[0] #kich thuoc\n",
    "    p = 1-q #q tu xet, dat bang smth 0.05 0.025 0.01\n",
    "    h = math.sqrt((p*q)/(n+1));\n",
    "    KQ=0;\n",
    "    for i in range(1,n+1):\n",
    "        a= ((i/n)-p)/h;\n",
    "        b= (((i-1)/n)-p)/h;\n",
    "        TP=(norm.cdf(a)-norm.cdf(b))*data2[i-1]; #normcdf thu trong matlab\n",
    "        KQ=KQ+TP;    \n",
    "    KQp = KQ;\n",
    "    return KQp\n",
    "\n",
    "for i in [0.05,0.025,0.01]:\n",
    "    print(\"KQp is:\", KQp(test_lstm_recons_error,i),\"with q =\",i)\n",
    "\n",
    "    "
   ]
  },
  {
   "cell_type": "code",
   "execution_count": null,
   "metadata": {},
   "outputs": [],
   "source": [
    "def KQp2(data,q):\n",
    "    data2 = np.sort(data)\n",
    "    n= np.shape(data2)[0]\n",
    "    h = math.sqrt(q*(1-q)/(n+1))\n",
    "    KQ = 0\n",
    "    for i in range (1,n+1) :\n",
    "        a = ((i/n)-q)/h\n",
    "        b = (((i-1)/n)-q)/h\n",
    "        TP = (norm.cdf(a)-norm.cdf(b))*data2[i-1]\n",
    "        KQ = KQ+TP\n",
    "    return KQ    "
   ]
  },
  {
   "cell_type": "markdown",
   "metadata": {},
   "source": [
    "MATLAB code KQE:\n",
    "\n",
    "function KQp = function_KQp(data,q)\n",
    "%UNTITLED3 Summary of this function goes here\n",
    "%   Detailed explanation goes here\n",
    "data2=sort(data,1);\n",
    "n=size(data2,1);\n",
    "h=sqrt(q*(1-q)/(n+1));\n",
    "KQ=0;\n",
    "for i=1:n\n",
    "    a=((i/n)-q)/h;\n",
    "    b= (((i-1)/n)-q)/h;\n",
    "    TP=(normcdf(a)-normcdf(b))*data2(i);\n",
    "    KQ=KQ+TP;\n",
    "end\n",
    "KQp = KQ;\n",
    "end"
   ]
  },
  {
   "cell_type": "code",
   "execution_count": 32,
   "metadata": {},
   "outputs": [
    {
     "name": "stdout",
     "output_type": "stream",
     "text": [
      "Closest KQp threshold is 474.7082346165466 at q = 0.9\n",
      "\n",
      "PR evaluation using KQE:\n",
      "Precision: 0.9300087773479406\n",
      "Recall: 0.8984078133341707\n",
      "F1: 0.9139352118075522\n",
      "TP: 57216\n",
      "FP: 4306\n",
      "FN: 6470\n",
      "\n",
      "Threshold is 10.839835412727433\n",
      "\n",
      "PR evaluation using augmented detection:\n",
      "Precision: 0.9314757934766711\n",
      "Recall: 0.9999842979618755\n",
      "F1: 0.9645150542194222\n",
      "TP: 63685\n",
      "FP: 4685\n",
      "FN: 1\n"
     ]
    }
   ],
   "source": [
    "# Now select a threshold\n",
    "threshold = best_thres#100.13527662881674\n",
    "q_list = [0.9, 0.8, 0.7, 0.6, 0.5, 0.4, 0.3, 0.2, 0.1]\n",
    "temp = math.inf\n",
    "q_best = 0\n",
    "closest_thres = 0\n",
    "for q in q_list:\n",
    "    temp_thres = KQp(test_lstm_recons_error, q)\n",
    "    #print(temp_thres,abs(temp_thres - threshold))\n",
    "    if abs(temp_thres - threshold) < temp:\n",
    "        temp = abs(temp_thres - threshold)\n",
    "        q_best = q\n",
    "        KQp_thres = temp_thres\n",
    "    \n",
    "print(\"Closest KQp threshold is {} at q = {}\".format(KQp_thres,q_best))\n",
    "idx_detection = return_anomaly_idx_by_threshold(test_lstm_recons_error, KQp_thres)\n",
    "#print(idx_detection)\n",
    "idx_detection_augmented = augment_detected_idx(idx_detection, anomaly_index_lstm)\n",
    "#print(anomaly_index_lstm)\n",
    "#print(idx_detection_augmented)\n",
    "precision, recall, F1, n_TP, n_FP, n_FN = compute_precision_and_recall(idx_detection_augmented, \n",
    "                                                                       anomaly_index_lstm, \n",
    "                                                                       test_labels_lstm)\n",
    "print(\"\\nPR evaluation using KQE:\")\n",
    "print(\"Precision: {}\".format(precision))\n",
    "print(\"Recall: {}\".format(recall))\n",
    "print(\"F1: {}\".format(F1))\n",
    "print(\"TP: {}\".format(n_TP))\n",
    "print(\"FP: {}\".format(n_FP))\n",
    "print(\"FN: {}\".format(n_FN))\n",
    "\n",
    "print(\"\\nThreshold is {}\".format(threshold))\n",
    "idx_detection = return_anomaly_idx_by_threshold(test_lstm_recons_error, threshold)\n",
    "idx_detection_augmented = augment_detected_idx(idx_detection, anomaly_index_lstm)\n",
    "precision, recall, F1, n_TP, n_FP, n_FN = compute_precision_and_recall(idx_detection_augmented, \n",
    "                                                                       anomaly_index_lstm, \n",
    "                                                                       test_labels_lstm)\n",
    "print(\"\\nPR evaluation using augmented detection:\")\n",
    "print(\"Precision: {}\".format(precision))\n",
    "print(\"Recall: {}\".format(recall))\n",
    "print(\"F1: {}\".format(F1))\n",
    "print(\"TP: {}\".format(n_TP))\n",
    "print(\"FP: {}\".format(n_FP))\n",
    "print(\"FN: {}\".format(n_FN))"
   ]
  },
  {
   "cell_type": "code",
   "execution_count": 34,
   "metadata": {},
   "outputs": [],
   "source": [
    "import pickle\n",
    "with open(config['exp_name']+'_'+config['dataset']+'.pkl', 'wb') as f:  # Python 3: open(..., 'wb')\n",
    "    pickle.dump([train_lstm_error_original, test_lstm_error_original, test_lstm_recons_error, test_labels_lstm, anomaly_index_lstm], f, protocol=4)"
   ]
  },
  {
   "cell_type": "code",
   "execution_count": 33,
   "metadata": {},
   "outputs": [
    {
     "name": "stdout",
     "output_type": "stream",
     "text": [
      "AUC = 0.46611508551611497\n"
     ]
    },
    {
     "data": {
      "image/png": "[encoded data removed]",
      "text/plain": [
       "<Figure size 432x288 with 1 Axes>"
      ]
     },
     "metadata": {
      "needs_background": "light"
     },
     "output_type": "display_data"
    }
   ],
   "source": [
    "from sklearn import metrics\n",
    "fpr, tpr, _ = metrics.roc_curve(test_labels_lstm,test_lstm_recons_error, pos_label = 1)\n",
    "auc = metrics.auc(fpr,tpr)\n",
    "print('AUC =', auc)\n",
    "lw = 2\n",
    "plt.plot(fpr, tpr, color='darkorange', lw=lw, label='ROC curve (area = %0.2f)' % auc)\n",
    "plt.plot([0, 1], [0, 1], color='navy', lw=lw, linestyle='--')\n",
    "plt.xlim([0.0, 1.0])\n",
    "plt.ylim([0.0, 1.05])\n",
    "plt.xlabel('False Positive Rate')\n",
    "plt.ylabel('True Positive Rate')\n",
    "plt.title('Receiver operating characteristic of ' + config['dataset'])\n",
    "plt.legend(loc=\"lower right\")\n",
    "plt.show()"
   ]
  },
  {
   "cell_type": "code",
   "execution_count": null,
   "metadata": {},
   "outputs": [],
   "source": [
    "np.unique(test_labels_lstm)\n"
   ]
  },
  {
   "cell_type": "code",
   "execution_count": null,
   "metadata": {},
   "outputs": [],
   "source": [
    "def slice_detected_indices_into_seq(idx_detection, interval):\n",
    "    detected_seq = []\n",
    "    i = 0\n",
    "    while i < len(idx_detection):\n",
    "        if i == 0:\n",
    "            cur_seq = [idx_detection[i]]\n",
    "            i = i + 1\n",
    "        else:\n",
    "            if idx_detection[i] - idx_detection[i-1] > interval:\n",
    "                detected_seq.append(cur_seq)\n",
    "                cur_seq = [idx_detection[i]]\n",
    "            else:\n",
    "                cur_seq.append(idx_detection[i])\n",
    "                if i == len(idx_detection) - 1:\n",
    "                    detected_seq.append(cur_seq)\n",
    "            i = i + 1\n",
    "    \n",
    "    print(\"Detected {} sequences\".format(len(detected_seq)))\n",
    "    return detected_seq"
   ]
  },
  {
   "cell_type": "code",
   "execution_count": null,
   "metadata": {},
   "outputs": [],
   "source": [
    "def plot_detected_anomalies(idx_detection, interval, dataset, result, detection_method, augmented_flag=1, y_scale=5, y_lim=None):\n",
    "    detected_seq = slice_detected_indices_into_seq(idx_detection, interval=interval)\n",
    "    #t_test = result['t_test']\n",
    "    test = result['test']\n",
    "    t_test = np.array(range(result['test'].shape[0]))\n",
    "    idx_anomaly_test = result['idx_anomaly_test']\n",
    "        \n",
    "    # plot detected sequences\n",
    "    fig, axs = plt.subplots(1, 1, figsize=(18, 5), edgecolor='k')\n",
    "    fig.subplots_adjust(hspace=.4, wspace=.4)\n",
    "    axs.plot(t_test, test)\n",
    "    for j in range(len(idx_anomaly_test)):\n",
    "        if j == 0:\n",
    "            axs.plot(idx_anomaly_test[j] * np.ones(20), np.linspace(-y_scale, y_scale, 20), 'r--', label='true anomalies')\n",
    "        else:\n",
    "            axs.plot(idx_anomaly_test[j] * np.ones(20), np.linspace(-y_scale, y_scale, 20), 'r--')\n",
    "        \n",
    "    for i in range(len(detected_seq)):\n",
    "        for j in detected_seq[i]:\n",
    "            if j == detected_seq[0][0]:\n",
    "                axs.plot((j+interval*2) * np.ones(20), np.linspace(-y_scale, -0.8*y_scale, 20), 'g-', label='detected anomalies')\n",
    "            else:\n",
    "                axs.plot((j+interval*2) * np.ones(20), np.linspace(-y_scale, -0.8*y_scale, 20), 'g-')\n",
    "    \n",
    "    for j in range(len(idx_anomaly_test)):\n",
    "        axs.plot(idx_anomaly_test[j] * np.ones(20), np.linspace(-y_scale, y_scale, 20), 'r--')\n",
    "\n",
    "    for i in range(len(detected_seq)):\n",
    "        interval_x = np.asarray([detected_seq[i][0], detected_seq[i][-1]+interval*2])\n",
    "        interval_y = np.asarray([y_scale,y_scale])\n",
    "        if i == 0:\n",
    "            axs.fill_between(interval_x, interval_y, alpha=0.2, color='y', label='detected anomaly windows')\n",
    "        else:\n",
    "            axs.fill_between(interval_x, interval_y, alpha=0.2, color='y')\n",
    "        interval_y = np.asarray([-y_scale,-y_scale])\n",
    "        axs.fill_between(interval_x, interval_y, alpha=0.2, color='y')\n",
    "    axs.grid(True)\n",
    "    axs.set_xlim(0, len(t_test))\n",
    "    if y_lim is None:\n",
    "        axs.set_ylim(-y_scale, y_scale)\n",
    "    else:\n",
    "        axs.set_ylim(-y_scale, y_lim)\n",
    "    axs.set_xlabel(\"timestamp (every {})\".format(result['t_unit']))\n",
    "    axs.set_ylabel(\"normalised readings\")\n",
    "    axs.set_title(\"{} dataset test sequence\\n(normalised by train mean {:.4f} and std {:.4f})\\n Detection method: {}\".format(dataset, \n",
    "                                                                                        np.mean(result['train_m']), \n",
    "                                                                                        np.mean(result['train_std']),\n",
    "                                                                                        detection_method))\n",
    "    axs.legend()\n",
    "    savefig(config['result_dir']+'detected_anomalies_{}_aug_{}.pdf'.format(detection_method, augmented_flag))"
   ]
  },
  {
   "cell_type": "code",
   "execution_count": null,
   "metadata": {
    "scrolled": true
   },
   "outputs": [],
   "source": [
    "plot_detected_anomalies(idx_detection_augmented, \n",
    "                        interval=config['l_win']*config['l_seq']/2, \n",
    "                        dataset=dataset, \n",
    "                        result=result, \n",
    "                        detection_method='lstm reconstruction error',\n",
    "                        augmented_flag=1,\n",
    "                        y_scale=5,\n",
    "                        y_lim=5)"
   ]
  },
  {
   "cell_type": "code",
   "execution_count": null,
   "metadata": {},
   "outputs": [],
   "source": [
    "from sklearn.metrics import precision_recall_curve\n",
    "from sklearn.metrics import precision_score\n",
    "from sklearn.metrics import recall_score\n",
    "from sklearn.metrics import f1_score\n",
    "from sklearn.metrics import accuracy_score\n",
    "\n",
    "#X_train =\n",
    "#predicted_train =\n",
    "#X_test = \n",
    "#predicted = \n",
    "y_test1 = np.where(test_labels_lstm==1,-1,1) #doi lai label\n",
    "\n",
    "#OCSVM\n",
    "#e=X_train - predicted_train\n",
    "#e = val_lstm_error_original\n",
    "e = train_lstm_error_original\n",
    "nsamples, nx, ny = e.shape\n",
    "d2_e = e.reshape((nsamples,nx*ny))\n",
    "\n",
    "nu = 0.5 #0.0055\n",
    "gamma = 'auto' #1.5\n",
    "from sklearn import svm\n",
    "clf = svm.OneClassSVM(nu=nu, kernel=\"rbf\", gamma=gamma)\n",
    "print ('Start fitting OCSVM')\n",
    "clf.fit(d2_e)\n",
    "print ('Done fitting OCSVM')\n",
    "\n",
    "#e_t=X_test - predicted\n"
   ]
  },
  {
   "cell_type": "code",
   "execution_count": null,
   "metadata": {},
   "outputs": [],
   "source": [
    "e_t = test_lstm_error_original\n",
    "nsamples, nx, ny = e_t.shape\n",
    "d2_e_t = e_t.reshape((nsamples,nx*ny))\n",
    "y_scores = clf.predict(d2_e_t)\n",
    "\n",
    "precision = precision_score(y_test1, y_scores, pos_label=-1)\n",
    "recall    = recall_score(y_test1, y_scores, pos_label=-1)\n",
    "accuracy = accuracy_score(y_test1, y_scores)\n",
    "f1 = f1_score(y_test1, y_scores, pos_label=-1)\n",
    "print ('OSCVM recons abs: ')\n",
    "print ('Precision : ', precision)\n",
    "print ('Recall: ', recall)\n",
    "print ('F1_score: ', f1)\n",
    "print ('Accuracy : ', accuracy)\n",
    "\n",
    "y_scores_idx_anomaly = np.squeeze(np.argwhere(y_scores==-1))\n",
    "idx_augmented = augment_detected_idx(y_scores_idx_anomaly, anomaly_index_lstm)\n",
    "y_scores[idx_augmented] = -1\n",
    "\n",
    "precision = precision_score(y_test1, y_scores, pos_label=-1)\n",
    "recall    = recall_score(y_test1, y_scores, pos_label=-1)\n",
    "accuracy = accuracy_score(y_test1, y_scores)\n",
    "f1 = f1_score(y_test1, y_scores, pos_label=-1)\n",
    "print ('\\nOSCVM recons abs augmented: ')\n",
    "print ('Precision : ', precision)\n",
    "print ('Recall: ', recall)\n",
    "print ('F1_score: ', f1)\n",
    "print ('Accuracy : ', accuracy)"
   ]
  },
  {
   "cell_type": "code",
   "execution_count": null,
   "metadata": {},
   "outputs": [],
   "source": [
    "print(y_scores_idx_anomaly)\n",
    "print(idx_augmented)"
   ]
  },
  {
   "cell_type": "code",
   "execution_count": null,
   "metadata": {},
   "outputs": [],
   "source": [
    "a = [1, 1, -1, -1]\n",
    "b = [1, -1, 1, 1]\n",
    "precision = precision_score(a,b,pos_label=-1)\n",
    "recall = recall_score(a,b,pos_label=-1)\n",
    "print(precision)\n",
    "print(recall)\n",
    "f1 = f1_score(a, b, pos_label=-1)\n",
    "print(f1)"
   ]
  },
  {
   "cell_type": "code",
   "execution_count": null,
   "metadata": {},
   "outputs": [],
   "source": [
    "[1,3,4] + [1,7,8]"
   ]
  },
  {
   "cell_type": "code",
   "execution_count": null,
   "metadata": {},
   "outputs": [],
   "source": []
  }
 ],
 "metadata": {
  "kernelspec": {
   "display_name": "Python 3",
   "language": "python",
   "name": "python3"
  },
  "language_info": {
   "codemirror_mode": {
    "name": "ipython",
    "version": 3
   },
   "file_extension": ".py",
   "mimetype": "text/x-python",
   "name": "python",
   "nbconvert_exporter": "python",
   "pygments_lexer": "ipython3",
   "version": "3.7.9"
  }
 },
 "nbformat": 4,
 "nbformat_minor": 2
}
